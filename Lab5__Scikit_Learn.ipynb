{
  "nbformat": 4,
  "nbformat_minor": 0,
  "metadata": {
    "colab": {
      "provenance": [],
      "collapsed_sections": [
        "Ij4jGMLSfmeX",
        "I3-Goq5lNaIt",
        "9FAY-gKKyLg8",
        "H-dR5dFn0wKj"
      ],
      "authorship_tag": "ABX9TyNLR0AoCrCIIWdGw9apofSm",
      "include_colab_link": true
    },
    "kernelspec": {
      "name": "python3",
      "display_name": "Python 3"
    },
    "language_info": {
      "name": "python"
    }
  },
  "cells": [
    {
      "cell_type": "markdown",
      "metadata": {
        "id": "view-in-github",
        "colab_type": "text"
      },
      "source": [
        "<a href=\"https://colab.research.google.com/github/AlyaAlshammari/UOH-ISEC243/blob/main/Lab5__Scikit_Learn.ipynb\" target=\"_parent\"><img src=\"https://colab.research.google.com/assets/colab-badge.svg\" alt=\"Open In Colab\"/></a>"
      ]
    },
    {
      "cell_type": "markdown",
      "source": [
        "# Scikit-learn"
      ],
      "metadata": {
        "id": "86nUxVCud3GR"
      }
    },
    {
      "cell_type": "markdown",
      "source": [
        "![image.png](data:image/png;base64,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)"
      ],
      "metadata": {
        "id": "ogUEPoKLevjr"
      }
    },
    {
      "cell_type": "markdown",
      "source": [
        "The source of this notbook is https://scikit-learn.org/stable/user_guide.html and https://www.geeksforgeeks.org/machine-learning-with-python/"
      ],
      "metadata": {
        "id": "Vk7TO3Jb3aUn"
      }
    },
    {
      "cell_type": "markdown",
      "source": [
        "## What is Scikit-learn?"
      ],
      "metadata": {
        "id": "vOX4n1i1ebjd"
      }
    },
    {
      "cell_type": "markdown",
      "source": [
        "Scikit-learn is an open source machine learning library that supports supervised and unsupervised learning. It also provides various tools for model fitting, data preprocessing, model selection, model evaluation, and many other utilities."
      ],
      "metadata": {
        "id": "PA1ugUgCehrt"
      }
    },
    {
      "cell_type": "markdown",
      "source": [
        "## How to import Scikit-learn"
      ],
      "metadata": {
        "id": "Ij4jGMLSfmeX"
      }
    },
    {
      "cell_type": "code",
      "execution_count": 1,
      "metadata": {
        "id": "Ucg1fHdQd1JZ"
      },
      "outputs": [],
      "source": [
        "import sklearn"
      ]
    },
    {
      "cell_type": "markdown",
      "source": [
        "## Examle 1 : Decision Tree Classifier"
      ],
      "metadata": {
        "id": "I3-Goq5lNaIt"
      }
    },
    {
      "cell_type": "markdown",
      "source": [
        "Loading dataset"
      ],
      "metadata": {
        "id": "pxjZybbSuBvh"
      }
    },
    {
      "cell_type": "code",
      "source": [
        "from sklearn import datasets\n",
        "# load the iris datasets\n",
        "dataset = datasets.load_iris()"
      ],
      "metadata": {
        "id": "25F9O8sWNhi4"
      },
      "execution_count": 2,
      "outputs": []
    },
    {
      "cell_type": "markdown",
      "source": [
        "Fit the model to the data"
      ],
      "metadata": {
        "id": "TLIyGAD9unYG"
      }
    },
    {
      "cell_type": "code",
      "source": [
        "from sklearn.tree import DecisionTreeClassifier\n",
        "model = DecisionTreeClassifier()\n",
        "model.fit(dataset.data, dataset.target)\n",
        "print(model)"
      ],
      "metadata": {
        "colab": {
          "base_uri": "https://localhost:8080/"
        },
        "id": "qVLTbReiuznB",
        "outputId": "aa5f95fa-74d0-4932-e1e5-241bf62b2250"
      },
      "execution_count": 3,
      "outputs": [
        {
          "output_type": "stream",
          "name": "stdout",
          "text": [
            "DecisionTreeClassifier()\n"
          ]
        }
      ]
    },
    {
      "cell_type": "markdown",
      "source": [
        "Make predictions"
      ],
      "metadata": {
        "id": "171uCuT4vR-_"
      }
    },
    {
      "cell_type": "code",
      "source": [
        "expected = dataset.target\n",
        "predicted = model.predict(dataset.data)"
      ],
      "metadata": {
        "id": "Frwrrl4bvX-C"
      },
      "execution_count": 4,
      "outputs": []
    },
    {
      "cell_type": "markdown",
      "source": [
        "Summarize the fit of the model"
      ],
      "metadata": {
        "id": "Y_qwaYMavc0W"
      }
    },
    {
      "cell_type": "code",
      "source": [
        "from sklearn import metrics\n",
        "print(metrics.classification_report(expected, predicted))\n"
      ],
      "metadata": {
        "colab": {
          "base_uri": "https://localhost:8080/"
        },
        "id": "0cuX1RT1vfZF",
        "outputId": "c772a1b6-4350-49dc-9aae-579e8302c15c"
      },
      "execution_count": 5,
      "outputs": [
        {
          "output_type": "stream",
          "name": "stdout",
          "text": [
            "              precision    recall  f1-score   support\n",
            "\n",
            "           0       1.00      1.00      1.00        50\n",
            "           1       1.00      1.00      1.00        50\n",
            "           2       1.00      1.00      1.00        50\n",
            "\n",
            "    accuracy                           1.00       150\n",
            "   macro avg       1.00      1.00      1.00       150\n",
            "weighted avg       1.00      1.00      1.00       150\n",
            "\n"
          ]
        }
      ]
    },
    {
      "cell_type": "markdown",
      "source": [
        "## Examle 2 : K-means Clustering"
      ],
      "metadata": {
        "id": "9FAY-gKKyLg8"
      }
    },
    {
      "cell_type": "markdown",
      "source": [
        "Loading dataset"
      ],
      "metadata": {
        "id": "iumb5ie0yLhP"
      }
    },
    {
      "cell_type": "code",
      "source": [
        "from sklearn import datasets\n",
        "# load the iris datasets\n",
        "dataset = datasets.load_iris()\n"
      ],
      "metadata": {
        "id": "XZJ3bVRQyLhP"
      },
      "execution_count": 6,
      "outputs": []
    },
    {
      "cell_type": "markdown",
      "source": [
        "Fit the model to the data"
      ],
      "metadata": {
        "id": "-Nr3xQQcyLhQ"
      }
    },
    {
      "cell_type": "code",
      "source": [
        "from sklearn.cluster import KMeans\n",
        "model = KMeans(n_clusters=2, random_state=0, n_init=\"auto\")\n",
        "model.fit(dataset.data, dataset.target)\n",
        "print(model)"
      ],
      "metadata": {
        "colab": {
          "base_uri": "https://localhost:8080/"
        },
        "outputId": "c54ec147-6b64-4b5f-cad6-eb31dd1ed78c",
        "id": "7d0OoRoDyLhQ"
      },
      "execution_count": 7,
      "outputs": [
        {
          "output_type": "stream",
          "name": "stdout",
          "text": [
            "KMeans(n_clusters=2, n_init='auto', random_state=0)\n"
          ]
        }
      ]
    },
    {
      "cell_type": "markdown",
      "source": [
        "Make predictions"
      ],
      "metadata": {
        "id": "zE1KfGSdyLhR"
      }
    },
    {
      "cell_type": "code",
      "source": [
        "expected = dataset.target\n",
        "predicted = model.predict(dataset.data)"
      ],
      "metadata": {
        "id": "U9lgzFomyLhR"
      },
      "execution_count": 8,
      "outputs": []
    },
    {
      "cell_type": "markdown",
      "source": [
        "Summarize the fit of the model"
      ],
      "metadata": {
        "id": "mQppKpKwyLhR"
      }
    },
    {
      "cell_type": "code",
      "source": [
        "from sklearn import metrics\n",
        "print(metrics.classification_report(expected, predicted))\n"
      ],
      "metadata": {
        "colab": {
          "base_uri": "https://localhost:8080/"
        },
        "outputId": "3587a122-4145-4d58-d8e0-da0e73fe0caa",
        "id": "EfWl2M3IyLhR"
      },
      "execution_count": 9,
      "outputs": [
        {
          "output_type": "stream",
          "name": "stdout",
          "text": [
            "              precision    recall  f1-score   support\n",
            "\n",
            "           0       0.94      1.00      0.97        50\n",
            "           1       0.48      0.94      0.64        50\n",
            "           2       0.00      0.00      0.00        50\n",
            "\n",
            "    accuracy                           0.65       150\n",
            "   macro avg       0.48      0.65      0.54       150\n",
            "weighted avg       0.48      0.65      0.54       150\n",
            "\n"
          ]
        },
        {
          "output_type": "stream",
          "name": "stderr",
          "text": [
            "/usr/local/lib/python3.10/dist-packages/sklearn/metrics/_classification.py:1344: UndefinedMetricWarning: Precision and F-score are ill-defined and being set to 0.0 in labels with no predicted samples. Use `zero_division` parameter to control this behavior.\n",
            "  _warn_prf(average, modifier, msg_start, len(result))\n",
            "/usr/local/lib/python3.10/dist-packages/sklearn/metrics/_classification.py:1344: UndefinedMetricWarning: Precision and F-score are ill-defined and being set to 0.0 in labels with no predicted samples. Use `zero_division` parameter to control this behavior.\n",
            "  _warn_prf(average, modifier, msg_start, len(result))\n",
            "/usr/local/lib/python3.10/dist-packages/sklearn/metrics/_classification.py:1344: UndefinedMetricWarning: Precision and F-score are ill-defined and being set to 0.0 in labels with no predicted samples. Use `zero_division` parameter to control this behavior.\n",
            "  _warn_prf(average, modifier, msg_start, len(result))\n"
          ]
        }
      ]
    },
    {
      "cell_type": "markdown",
      "source": [
        "## Examle 3 : Support Vector Classification"
      ],
      "metadata": {
        "id": "H-dR5dFn0wKj"
      }
    },
    {
      "cell_type": "markdown",
      "source": [
        "Loading dataset"
      ],
      "metadata": {
        "id": "IfsDrYQE0wK-"
      }
    },
    {
      "cell_type": "code",
      "source": [
        "from sklearn import datasets\n",
        "# load the iris datasets\n",
        "dataset = datasets.load_iris()\n"
      ],
      "metadata": {
        "id": "USyT8kDO0wK-"
      },
      "execution_count": 10,
      "outputs": []
    },
    {
      "cell_type": "markdown",
      "source": [
        "Fit the model to the data"
      ],
      "metadata": {
        "id": "oN5VwFqk0wK_"
      }
    },
    {
      "cell_type": "code",
      "source": [
        "from sklearn import svm\n",
        "C = 1.0  # SVM regularization parameter\n",
        "model = svm.SVC(kernel=\"linear\", C=C)\n",
        "model.fit(dataset.data, dataset.target)\n",
        "print(model)"
      ],
      "metadata": {
        "colab": {
          "base_uri": "https://localhost:8080/"
        },
        "outputId": "6dd3da03-8781-4788-c28f-b2e734eb97f5",
        "id": "CDHeusYZ0wK_"
      },
      "execution_count": 11,
      "outputs": [
        {
          "output_type": "stream",
          "name": "stdout",
          "text": [
            "SVC(kernel='linear')\n"
          ]
        }
      ]
    },
    {
      "cell_type": "markdown",
      "source": [
        "Make predictions"
      ],
      "metadata": {
        "id": "0_5BUdM80wLA"
      }
    },
    {
      "cell_type": "code",
      "source": [
        "expected = dataset.target\n",
        "predicted = model.predict(dataset.data)"
      ],
      "metadata": {
        "id": "oJymj4xL0wLA"
      },
      "execution_count": 12,
      "outputs": []
    },
    {
      "cell_type": "markdown",
      "source": [
        "Summarize the fit of the model"
      ],
      "metadata": {
        "id": "rK2L1va80wLA"
      }
    },
    {
      "cell_type": "code",
      "source": [
        "from sklearn import metrics\n",
        "print(metrics.classification_report(expected, predicted))\n"
      ],
      "metadata": {
        "colab": {
          "base_uri": "https://localhost:8080/"
        },
        "outputId": "81bd9289-415c-488a-daca-735d228df572",
        "id": "4yunHtnY0wLB"
      },
      "execution_count": 13,
      "outputs": [
        {
          "output_type": "stream",
          "name": "stdout",
          "text": [
            "              precision    recall  f1-score   support\n",
            "\n",
            "           0       1.00      1.00      1.00        50\n",
            "           1       1.00      0.98      0.99        50\n",
            "           2       0.98      1.00      0.99        50\n",
            "\n",
            "    accuracy                           0.99       150\n",
            "   macro avg       0.99      0.99      0.99       150\n",
            "weighted avg       0.99      0.99      0.99       150\n",
            "\n"
          ]
        }
      ]
    },
    {
      "cell_type": "markdown",
      "source": [
        "# Student Evaluation"
      ],
      "metadata": {
        "id": "FbnMdB3zy92V"
      }
    },
    {
      "cell_type": "markdown",
      "source": [
        "Student Evaluation out of 7 marks"
      ],
      "metadata": {
        "id": "jb0s4TI_zFMI"
      }
    },
    {
      "cell_type": "markdown",
      "source": [
        "1-Import Scikit-learn  (1 Marks)"
      ],
      "metadata": {
        "id": "lnCe9b8Y2v9B"
      }
    },
    {
      "cell_type": "code",
      "source": [],
      "metadata": {
        "id": "weRUKlD024vG"
      },
      "execution_count": 13,
      "outputs": []
    },
    {
      "cell_type": "markdown",
      "source": [
        "2-Load the iris dataset  (1 Marks)"
      ],
      "metadata": {
        "id": "nwoATUEf2pC8"
      }
    },
    {
      "cell_type": "code",
      "source": [
        "\n"
      ],
      "metadata": {
        "id": "X96scau32pC9"
      },
      "execution_count": 13,
      "outputs": []
    },
    {
      "cell_type": "markdown",
      "source": [
        "3-Fit a **LinearRegression** model to the data (2 Marks)"
      ],
      "metadata": {
        "id": "apSWu7r92pC9"
      }
    },
    {
      "cell_type": "code",
      "source": [],
      "metadata": {
        "id": "EDl6b33q2pC9"
      },
      "execution_count": 13,
      "outputs": []
    },
    {
      "cell_type": "markdown",
      "source": [
        "4-Make predictions (2 Marks)"
      ],
      "metadata": {
        "id": "hG444CjQ2pC9"
      }
    },
    {
      "cell_type": "code",
      "source": [],
      "metadata": {
        "id": "IpmjObRf2pC9"
      },
      "execution_count": 13,
      "outputs": []
    },
    {
      "cell_type": "markdown",
      "source": [
        "5-Summarize the fit of the model  (1 Marks)"
      ],
      "metadata": {
        "id": "Fbfq5Rez2pC-"
      }
    },
    {
      "cell_type": "code",
      "source": [],
      "metadata": {
        "id": "NCNqPbaE2pC-"
      },
      "execution_count": 13,
      "outputs": []
    }
  ]
}
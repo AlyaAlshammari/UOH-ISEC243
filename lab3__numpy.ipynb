{
  "nbformat": 4,
  "nbformat_minor": 0,
  "metadata": {
    "colab": {
      "provenance": [],
      "collapsed_sections": [
        "vOX4n1i1ebjd",
        "Ij4jGMLSfmeX",
        "4OXMlmgZf2aB",
        "nerVwdfRhnXN",
        "SGofhFWQjUO5",
        "76QmJ-urklu6",
        "2k1UNaG1la3I",
        "TXbrYcdgmmJ-",
        "gfHiPoqkuOfB"
      ],
      "authorship_tag": "ABX9TyMPK2AewF7Iv1ghgp9uhxy5",
      "include_colab_link": true
    },
    "kernelspec": {
      "name": "python3",
      "display_name": "Python 3"
    },
    "language_info": {
      "name": "python"
    }
  },
  "cells": [
    {
      "cell_type": "markdown",
      "metadata": {
        "id": "view-in-github",
        "colab_type": "text"
      },
      "source": [
        "<a href=\"https://colab.research.google.com/github/AlyaAlshammari/UOH-ISEC243/blob/main/lab3__numpy.ipynb\" target=\"_parent\"><img src=\"https://colab.research.google.com/assets/colab-badge.svg\" alt=\"Open In Colab\"/></a>"
      ]
    },
    {
      "cell_type": "markdown",
      "source": [
        "# NumPy"
      ],
      "metadata": {
        "id": "86nUxVCud3GR"
      }
    },
    {
      "cell_type": "markdown",
      "source": [
        "![image.png](data:image/png;base64,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)"
      ],
      "metadata": {
        "id": "ogUEPoKLevjr"
      }
    },
    {
      "cell_type": "markdown",
      "source": [
        "The source of this notbook is https://numpy.org/devdocs/user/absolute_beginners.html"
      ],
      "metadata": {
        "id": "Vk7TO3Jb3aUn"
      }
    },
    {
      "cell_type": "markdown",
      "source": [
        "## What is NumPy?"
      ],
      "metadata": {
        "id": "vOX4n1i1ebjd"
      }
    },
    {
      "cell_type": "markdown",
      "source": [
        "NumPy is the fundamental package for scientific computing in Python. It is a Python library that provides a multidimensional array object, various derived objects (such as masked arrays and matrices), and an assortment of routines for fast operations on arrays, including mathematical, logical, shape manipulation, sorting, selecting, I/O, and much more."
      ],
      "metadata": {
        "id": "PA1ugUgCehrt"
      }
    },
    {
      "cell_type": "markdown",
      "source": [
        "At the core of the NumPy package, is the **ndarray** object. This encapsulates n-dimensional arrays of homogeneous data types, with many operations being performed in compiled code for performance."
      ],
      "metadata": {
        "id": "Y3H9Lomqe33u"
      }
    },
    {
      "cell_type": "markdown",
      "source": [
        "NumPy features :\n",
        "* NumPy arrays have a fixed size at creation, unlike Python lists (which can grow dynamically).\n",
        "\n",
        "* The elements in a NumPy array are all required to be of the same data type, and thus will be the same size in memory. The exception: one can have arrays of (Python, including NumPy) objects, thereby allowing for arrays of different sized elements.\n",
        "\n",
        "* NumPy arrays facilitate advanced mathematical and other types of operations on large numbers of data."
      ],
      "metadata": {
        "id": "PZ1HoLuEfPMv"
      }
    },
    {
      "cell_type": "markdown",
      "source": [
        "## How to import NumPy"
      ],
      "metadata": {
        "id": "Ij4jGMLSfmeX"
      }
    },
    {
      "cell_type": "code",
      "execution_count": null,
      "metadata": {
        "id": "Ucg1fHdQd1JZ"
      },
      "outputs": [],
      "source": [
        "import numpy as np"
      ]
    },
    {
      "cell_type": "markdown",
      "source": [
        "## Array fundamentals"
      ],
      "metadata": {
        "id": "4OXMlmgZf2aB"
      }
    },
    {
      "cell_type": "code",
      "source": [
        "#One way to initialize an array is using a Python sequence, such as a list\n",
        "a = np.array([1, 2, 3, 4, 5, 6])\n",
        "a"
      ],
      "metadata": {
        "colab": {
          "base_uri": "https://localhost:8080/"
        },
        "id": "RuBJ4jSIf3ia",
        "outputId": "6cd4d499-dc0e-4b81-a23a-1315d22a57c9"
      },
      "execution_count": null,
      "outputs": [
        {
          "output_type": "execute_result",
          "data": {
            "text/plain": [
              "array([1, 2, 3, 4, 5, 6])"
            ]
          },
          "metadata": {},
          "execution_count": 2
        }
      ]
    },
    {
      "cell_type": "code",
      "source": [
        "# We can access an individual element of this array using the integer index of the element within square brackets.\n",
        "a[0]"
      ],
      "metadata": {
        "colab": {
          "base_uri": "https://localhost:8080/"
        },
        "id": "069mew-xgDde",
        "outputId": "7e6b1051-c7f3-4533-aa12-0e91f332241a"
      },
      "execution_count": null,
      "outputs": [
        {
          "output_type": "execute_result",
          "data": {
            "text/plain": [
              "1"
            ]
          },
          "metadata": {},
          "execution_count": 3
        }
      ]
    },
    {
      "cell_type": "code",
      "source": [
        "# The array is mutable, we can change the value of elements\n",
        "a[0] = 10\n",
        "a"
      ],
      "metadata": {
        "colab": {
          "base_uri": "https://localhost:8080/"
        },
        "id": "x0QPNy1kgexo",
        "outputId": "ee5a84bb-c586-42d9-e983-8addbccb08fc"
      },
      "execution_count": null,
      "outputs": [
        {
          "output_type": "execute_result",
          "data": {
            "text/plain": [
              "array([10,  2,  3,  4,  5,  6])"
            ]
          },
          "metadata": {},
          "execution_count": 4
        }
      ]
    },
    {
      "cell_type": "code",
      "source": [
        "# For indexing , we use Python slice notation\n",
        "a[:3]"
      ],
      "metadata": {
        "colab": {
          "base_uri": "https://localhost:8080/"
        },
        "id": "zHbAmAcqhEjm",
        "outputId": "20c5802a-b164-464c-8e3c-482718364d88"
      },
      "execution_count": null,
      "outputs": [
        {
          "output_type": "execute_result",
          "data": {
            "text/plain": [
              "array([10,  2,  3])"
            ]
          },
          "metadata": {},
          "execution_count": 5
        }
      ]
    },
    {
      "cell_type": "code",
      "source": [
        "b = a[3:]\n",
        "b"
      ],
      "metadata": {
        "colab": {
          "base_uri": "https://localhost:8080/"
        },
        "id": "YMzCFoh5hR26",
        "outputId": "dd567ec6-31e5-43bd-ddff-6d8358cdf9c8"
      },
      "execution_count": null,
      "outputs": [
        {
          "output_type": "execute_result",
          "data": {
            "text/plain": [
              "array([4, 5, 6])"
            ]
          },
          "metadata": {},
          "execution_count": 6
        }
      ]
    },
    {
      "cell_type": "code",
      "source": [
        "# Two- and higher-dimensional arrays can be initialized from nested Python sequence\n",
        "a = np.array([[1, 2, 3, 4], [5, 6, 7, 8], [9, 10, 11, 12]])\n",
        "a"
      ],
      "metadata": {
        "colab": {
          "base_uri": "https://localhost:8080/"
        },
        "id": "gEjqj-kPhZLA",
        "outputId": "2f49235a-eb31-4e28-e534-1331f0dc0294"
      },
      "execution_count": null,
      "outputs": [
        {
          "output_type": "execute_result",
          "data": {
            "text/plain": [
              "array([[ 1,  2,  3,  4],\n",
              "       [ 5,  6,  7,  8],\n",
              "       [ 9, 10, 11, 12]])"
            ]
          },
          "metadata": {},
          "execution_count": 7
        }
      ]
    },
    {
      "cell_type": "markdown",
      "source": [
        "## Array attributes"
      ],
      "metadata": {
        "id": "nerVwdfRhnXN"
      }
    },
    {
      "cell_type": "code",
      "source": [
        "# The number of dimensions of an array is contained in the ndim attribute\n",
        "# 2D array -> 2 dimensions\n",
        "a = np.array([[1, 2, 3, 4], [5, 6, 7, 8], [9, 10, 11, 12]])\n",
        "a.ndim"
      ],
      "metadata": {
        "colab": {
          "base_uri": "https://localhost:8080/"
        },
        "id": "JyHmZCwzhp5b",
        "outputId": "b734550a-0743-447b-83f2-01dcc8605b18"
      },
      "execution_count": null,
      "outputs": [
        {
          "output_type": "execute_result",
          "data": {
            "text/plain": [
              "2"
            ]
          },
          "metadata": {},
          "execution_count": 8
        }
      ]
    },
    {
      "cell_type": "code",
      "source": [
        "# The shape of an array is a tuple of non-negative integers that specify the number of elements along each dimension.\n",
        "# 3 rows , 4 columns\n",
        "a.shape"
      ],
      "metadata": {
        "colab": {
          "base_uri": "https://localhost:8080/"
        },
        "id": "D_VH7Zbsirs8",
        "outputId": "22787e50-f017-420b-826a-416b2ea613f7"
      },
      "execution_count": null,
      "outputs": [
        {
          "output_type": "execute_result",
          "data": {
            "text/plain": [
              "(3, 4)"
            ]
          },
          "metadata": {},
          "execution_count": 9
        }
      ]
    },
    {
      "cell_type": "code",
      "source": [
        "# The fixed, total number of elements in array is contained in the size attribute\n",
        "a.size"
      ],
      "metadata": {
        "colab": {
          "base_uri": "https://localhost:8080/"
        },
        "id": "y2_0knwci_lH",
        "outputId": "e89a7c4a-17a9-4049-cb12-56e678b51585"
      },
      "execution_count": null,
      "outputs": [
        {
          "output_type": "execute_result",
          "data": {
            "text/plain": [
              "12"
            ]
          },
          "metadata": {},
          "execution_count": 10
        }
      ]
    },
    {
      "cell_type": "code",
      "source": [
        "# Arrays are typically “homogeneous”, meaning that they contain elements of only one “data type”.\n",
        "# The data type is recorded in the dtype attribute.\n",
        "a.dtype"
      ],
      "metadata": {
        "colab": {
          "base_uri": "https://localhost:8080/"
        },
        "id": "OK2CtFLXjJnZ",
        "outputId": "416ed3d3-dec1-4b2a-9b94-afb98b48d2a3"
      },
      "execution_count": null,
      "outputs": [
        {
          "output_type": "execute_result",
          "data": {
            "text/plain": [
              "dtype('int64')"
            ]
          },
          "metadata": {},
          "execution_count": 11
        }
      ]
    },
    {
      "cell_type": "markdown",
      "source": [
        "## How to create a basic array"
      ],
      "metadata": {
        "id": "SGofhFWQjUO5"
      }
    },
    {
      "cell_type": "code",
      "source": [
        "# create an array filled with 0’s\n",
        "np.zeros(2)"
      ],
      "metadata": {
        "colab": {
          "base_uri": "https://localhost:8080/"
        },
        "id": "ytGQLEP4jWVJ",
        "outputId": "15c5d65b-df7d-43a0-daba-6983eb902ed4"
      },
      "execution_count": null,
      "outputs": [
        {
          "output_type": "execute_result",
          "data": {
            "text/plain": [
              "array([0., 0.])"
            ]
          },
          "metadata": {},
          "execution_count": 12
        }
      ]
    },
    {
      "cell_type": "code",
      "source": [
        "# create an array filled with 1’s\n",
        "np.ones(5)"
      ],
      "metadata": {
        "colab": {
          "base_uri": "https://localhost:8080/"
        },
        "id": "xoQlfLY3jif6",
        "outputId": "a2841869-224a-41aa-d492-c268d7540e02"
      },
      "execution_count": null,
      "outputs": [
        {
          "output_type": "execute_result",
          "data": {
            "text/plain": [
              "array([1., 1., 1., 1., 1.])"
            ]
          },
          "metadata": {},
          "execution_count": 13
        }
      ]
    },
    {
      "cell_type": "code",
      "source": [
        "# The function empty creates an array whose initial content is random and depends on the state of the memory.\n",
        "np.empty(2)"
      ],
      "metadata": {
        "colab": {
          "base_uri": "https://localhost:8080/"
        },
        "id": "KHIRP3Zzj4Fw",
        "outputId": "eae16439-fa3e-4f7f-bfc1-cd1663ea92d9"
      },
      "execution_count": null,
      "outputs": [
        {
          "output_type": "execute_result",
          "data": {
            "text/plain": [
              "array([0., 0.])"
            ]
          },
          "metadata": {},
          "execution_count": 14
        }
      ]
    },
    {
      "cell_type": "code",
      "source": [
        "# create an array with a range of elements\n",
        "np.arange(4)"
      ],
      "metadata": {
        "colab": {
          "base_uri": "https://localhost:8080/"
        },
        "id": "GuVQSAU9kAf7",
        "outputId": "5e933b25-e361-4b28-8873-736944b7b457"
      },
      "execution_count": null,
      "outputs": [
        {
          "output_type": "execute_result",
          "data": {
            "text/plain": [
              "array([0, 1, 2, 3])"
            ]
          },
          "metadata": {},
          "execution_count": 15
        }
      ]
    },
    {
      "cell_type": "code",
      "source": [
        "# create an array with a range of elements, specify the first number, last number, and the step size.\n",
        "np.arange(2, 9, 2)"
      ],
      "metadata": {
        "colab": {
          "base_uri": "https://localhost:8080/"
        },
        "outputId": "70ea244e-6c18-4ae4-bcd7-27703cf70ae3",
        "id": "8zPHnbJMkLCf"
      },
      "execution_count": null,
      "outputs": [
        {
          "output_type": "execute_result",
          "data": {
            "text/plain": [
              "array([2, 4, 6, 8])"
            ]
          },
          "metadata": {},
          "execution_count": 16
        }
      ]
    },
    {
      "cell_type": "code",
      "source": [
        "# create an array with values that are spaced linearly in a specified interval using np.linspace()\n",
        "np.linspace(0, 10, num=5)"
      ],
      "metadata": {
        "colab": {
          "base_uri": "https://localhost:8080/"
        },
        "id": "uhLEk4ZwkXXm",
        "outputId": "89b2761c-3726-4027-faaf-d360ad3136ac"
      },
      "execution_count": null,
      "outputs": [
        {
          "output_type": "execute_result",
          "data": {
            "text/plain": [
              "array([ 0. ,  2.5,  5. ,  7.5, 10. ])"
            ]
          },
          "metadata": {},
          "execution_count": 17
        }
      ]
    },
    {
      "cell_type": "markdown",
      "source": [
        "## Adding, removing, and sorting elements"
      ],
      "metadata": {
        "id": "76QmJ-urklu6"
      }
    },
    {
      "cell_type": "code",
      "source": [
        "# sort the numbers in ascending order\n",
        "arr = np.array([2, 1, 5, 3, 7, 4, 6, 8])\n",
        "np.sort(arr)"
      ],
      "metadata": {
        "colab": {
          "base_uri": "https://localhost:8080/"
        },
        "id": "SIX8NzkHknfq",
        "outputId": "359a168a-e8e3-4206-8d0b-dcd3bd850696"
      },
      "execution_count": null,
      "outputs": [
        {
          "output_type": "execute_result",
          "data": {
            "text/plain": [
              "array([1, 2, 3, 4, 5, 6, 7, 8])"
            ]
          },
          "metadata": {},
          "execution_count": 18
        }
      ]
    },
    {
      "cell_type": "code",
      "source": [
        "# concatenate two arrays with np.concatenate()\n",
        "a = np.array([1, 2, 3, 4])\n",
        "b = np.array([5, 6, 7, 8])\n",
        "np.concatenate((a, b))"
      ],
      "metadata": {
        "colab": {
          "base_uri": "https://localhost:8080/"
        },
        "id": "fe-N4Rgnk8lb",
        "outputId": "db6347b8-68f2-4c50-8e7c-f52dd6238f4c"
      },
      "execution_count": null,
      "outputs": [
        {
          "output_type": "execute_result",
          "data": {
            "text/plain": [
              "array([1, 2, 3, 4, 5, 6, 7, 8])"
            ]
          },
          "metadata": {},
          "execution_count": 19
        }
      ]
    },
    {
      "cell_type": "markdown",
      "source": [
        "## Can you reshape an array?"
      ],
      "metadata": {
        "id": "2k1UNaG1la3I"
      }
    },
    {
      "cell_type": "code",
      "source": [
        "# Using array.reshape() will give a new shape to an array without changing the data\n",
        "a = np.arange(6)\n",
        "print(a)\n",
        "print(a.shape)\n"
      ],
      "metadata": {
        "colab": {
          "base_uri": "https://localhost:8080/"
        },
        "id": "73z1s4hflvy7",
        "outputId": "0b5d0259-0780-4dee-e2eb-d75657098dad"
      },
      "execution_count": null,
      "outputs": [
        {
          "output_type": "stream",
          "name": "stdout",
          "text": [
            "[0 1 2 3 4 5]\n",
            "(6,)\n"
          ]
        }
      ]
    },
    {
      "cell_type": "code",
      "source": [
        "b = a.reshape(3, 2)\n",
        "print(b)\n",
        "print(b.shape)"
      ],
      "metadata": {
        "colab": {
          "base_uri": "https://localhost:8080/"
        },
        "id": "lcQRx6S2mN_n",
        "outputId": "8295f658-8aa0-40bc-be32-c5ba56dbc82c"
      },
      "execution_count": null,
      "outputs": [
        {
          "output_type": "stream",
          "name": "stdout",
          "text": [
            "[[0 1]\n",
            " [2 3]\n",
            " [4 5]]\n",
            "(3, 2)\n"
          ]
        }
      ]
    },
    {
      "cell_type": "markdown",
      "source": [
        "## Indexing and slicing\n"
      ],
      "metadata": {
        "id": "TXbrYcdgmmJ-"
      }
    },
    {
      "cell_type": "code",
      "source": [
        "# You can index and slice NumPy arrays in the same ways you can slice Python lists\n",
        "data = np.array([1, 2, 3])"
      ],
      "metadata": {
        "id": "oWosEuOzmpYl"
      },
      "execution_count": null,
      "outputs": []
    },
    {
      "cell_type": "code",
      "source": [
        "data[1]"
      ],
      "metadata": {
        "colab": {
          "base_uri": "https://localhost:8080/"
        },
        "id": "pZMTxjlMtvxv",
        "outputId": "d57dfc68-83c9-4c06-9a0d-fd046a3bc5b7"
      },
      "execution_count": null,
      "outputs": [
        {
          "output_type": "execute_result",
          "data": {
            "text/plain": [
              "2"
            ]
          },
          "metadata": {},
          "execution_count": 23
        }
      ]
    },
    {
      "cell_type": "code",
      "source": [
        "data[0:2]"
      ],
      "metadata": {
        "colab": {
          "base_uri": "https://localhost:8080/"
        },
        "id": "Fb1n_hMat0Cy",
        "outputId": "60cd6861-e5d3-45c1-f460-21484cd8680c"
      },
      "execution_count": null,
      "outputs": [
        {
          "output_type": "execute_result",
          "data": {
            "text/plain": [
              "array([1, 2])"
            ]
          },
          "metadata": {},
          "execution_count": 24
        }
      ]
    },
    {
      "cell_type": "code",
      "source": [
        "data[1:]"
      ],
      "metadata": {
        "colab": {
          "base_uri": "https://localhost:8080/"
        },
        "id": "CBkVoruet3a6",
        "outputId": "e6b1ee91-7a04-4b65-af60-ac8d8e071e17"
      },
      "execution_count": null,
      "outputs": [
        {
          "output_type": "execute_result",
          "data": {
            "text/plain": [
              "array([2, 3])"
            ]
          },
          "metadata": {},
          "execution_count": 25
        }
      ]
    },
    {
      "cell_type": "code",
      "source": [
        "data[-2:]"
      ],
      "metadata": {
        "colab": {
          "base_uri": "https://localhost:8080/"
        },
        "id": "TOnI0zCkt6zD",
        "outputId": "b70ac153-281d-487c-c0f3-12de47130721"
      },
      "execution_count": null,
      "outputs": [
        {
          "output_type": "execute_result",
          "data": {
            "text/plain": [
              "array([2, 3])"
            ]
          },
          "metadata": {},
          "execution_count": 26
        }
      ]
    },
    {
      "cell_type": "code",
      "source": [
        "print(data[data < 2])"
      ],
      "metadata": {
        "colab": {
          "base_uri": "https://localhost:8080/"
        },
        "id": "nIrIkIveuBSG",
        "outputId": "d4147ddd-5cb1-4831-da39-2dd6339e762d"
      },
      "execution_count": null,
      "outputs": [
        {
          "output_type": "stream",
          "name": "stdout",
          "text": [
            "[1]\n"
          ]
        }
      ]
    },
    {
      "cell_type": "markdown",
      "source": [
        "## Basic array operations"
      ],
      "metadata": {
        "id": "gfHiPoqkuOfB"
      }
    },
    {
      "cell_type": "code",
      "source": [
        "# addition, subtraction, multiplication, division, and more\n",
        "data = np.array([1, 2])\n",
        "ones = np.ones(2, dtype=int)\n",
        "data + ones"
      ],
      "metadata": {
        "colab": {
          "base_uri": "https://localhost:8080/"
        },
        "id": "HPJty7FeuQP9",
        "outputId": "be571130-fa73-411e-e9f5-5afad7320b88"
      },
      "execution_count": null,
      "outputs": [
        {
          "output_type": "execute_result",
          "data": {
            "text/plain": [
              "array([2, 3])"
            ]
          },
          "metadata": {},
          "execution_count": 28
        }
      ]
    },
    {
      "cell_type": "code",
      "source": [
        "a= data - ones\n",
        "print(a)\n",
        "b= data * ones\n",
        "print(b)\n",
        "c= data / ones\n",
        "print(c)\n",
        "d=data * 1.6\n",
        "print(d)"
      ],
      "metadata": {
        "colab": {
          "base_uri": "https://localhost:8080/"
        },
        "id": "W2H17cTNu0sN",
        "outputId": "31eda006-b615-4c2c-e646-7ee6bfab0e7a"
      },
      "execution_count": null,
      "outputs": [
        {
          "output_type": "stream",
          "name": "stdout",
          "text": [
            "[0 1]\n",
            "[1 2]\n",
            "[1. 2.]\n",
            "[1.6 3.2]\n"
          ]
        }
      ]
    },
    {
      "cell_type": "code",
      "source": [
        "# Sum of elemnts in array\n",
        "\n",
        "a = np.array([1, 2, 3, 4])\n",
        "a.sum()"
      ],
      "metadata": {
        "colab": {
          "base_uri": "https://localhost:8080/"
        },
        "id": "9aA0oblkwQwS",
        "outputId": "8f4f35be-9444-41a6-f95f-a9a8078fbe99"
      },
      "execution_count": null,
      "outputs": [
        {
          "output_type": "execute_result",
          "data": {
            "text/plain": [
              "10"
            ]
          },
          "metadata": {},
          "execution_count": 30
        }
      ]
    },
    {
      "cell_type": "code",
      "source": [
        "data.max()"
      ],
      "metadata": {
        "colab": {
          "base_uri": "https://localhost:8080/"
        },
        "id": "CF-hJ2RyxDGA",
        "outputId": "04cd2262-c16c-475f-8973-e81ac11e496c"
      },
      "execution_count": null,
      "outputs": [
        {
          "output_type": "execute_result",
          "data": {
            "text/plain": [
              "2"
            ]
          },
          "metadata": {},
          "execution_count": 31
        }
      ]
    },
    {
      "cell_type": "code",
      "source": [
        "data.min()"
      ],
      "metadata": {
        "colab": {
          "base_uri": "https://localhost:8080/"
        },
        "id": "tFDhYLkexJUP",
        "outputId": "0a605f5d-a04a-47b4-ee39-5030016dc2dc"
      },
      "execution_count": null,
      "outputs": [
        {
          "output_type": "execute_result",
          "data": {
            "text/plain": [
              "1"
            ]
          },
          "metadata": {},
          "execution_count": 32
        }
      ]
    },
    {
      "cell_type": "code",
      "source": [
        "data.sum()"
      ],
      "metadata": {
        "colab": {
          "base_uri": "https://localhost:8080/"
        },
        "id": "kCxMA1uCxMVR",
        "outputId": "174cd072-d769-4a19-a9a1-8629d79b6155"
      },
      "execution_count": null,
      "outputs": [
        {
          "output_type": "execute_result",
          "data": {
            "text/plain": [
              "3"
            ]
          },
          "metadata": {},
          "execution_count": 33
        }
      ]
    },
    {
      "cell_type": "markdown",
      "source": [
        "## Creating matrices"
      ],
      "metadata": {
        "id": "OMVWGpHjx2tD"
      }
    },
    {
      "cell_type": "code",
      "source": [
        "data = np.array([[1, 2], [3, 4], [5, 6]])\n",
        "data"
      ],
      "metadata": {
        "colab": {
          "base_uri": "https://localhost:8080/"
        },
        "id": "zgDwmS8Xx4TZ",
        "outputId": "e6133afe-7811-4839-b5b5-6447f8c2e177"
      },
      "execution_count": null,
      "outputs": [
        {
          "output_type": "execute_result",
          "data": {
            "text/plain": [
              "array([[1, 2],\n",
              "       [3, 4],\n",
              "       [5, 6]])"
            ]
          },
          "metadata": {},
          "execution_count": 34
        }
      ]
    },
    {
      "cell_type": "code",
      "source": [
        "# shape multidimensional arrays\n",
        "data.shape"
      ],
      "metadata": {
        "colab": {
          "base_uri": "https://localhost:8080/"
        },
        "id": "mQBjib5xyHyb",
        "outputId": "40795e59-d109-41e9-f5e0-0c45faf1f8d4"
      },
      "execution_count": null,
      "outputs": [
        {
          "output_type": "execute_result",
          "data": {
            "text/plain": [
              "(3, 2)"
            ]
          },
          "metadata": {},
          "execution_count": 35
        }
      ]
    },
    {
      "cell_type": "code",
      "source": [
        "# reshape multidimensional arrays\n",
        "data.reshape(2, 3)"
      ],
      "metadata": {
        "colab": {
          "base_uri": "https://localhost:8080/"
        },
        "id": "7kkrG6JRyLHS",
        "outputId": "b61f258c-9665-4a2f-ad9b-dfaa73551358"
      },
      "execution_count": null,
      "outputs": [
        {
          "output_type": "execute_result",
          "data": {
            "text/plain": [
              "array([[1, 2, 3],\n",
              "       [4, 5, 6]])"
            ]
          },
          "metadata": {},
          "execution_count": 36
        }
      ]
    },
    {
      "cell_type": "code",
      "source": [
        "# flattening multidimensional arrays\n",
        "data.flatten()"
      ],
      "metadata": {
        "colab": {
          "base_uri": "https://localhost:8080/"
        },
        "id": "7gVMVZjAyZBU",
        "outputId": "36856164-64fc-4e77-85bf-c9d0cd288e98"
      },
      "execution_count": null,
      "outputs": [
        {
          "output_type": "execute_result",
          "data": {
            "text/plain": [
              "array([1, 2, 3, 4, 5, 6])"
            ]
          },
          "metadata": {},
          "execution_count": 37
        }
      ]
    },
    {
      "cell_type": "markdown",
      "source": [
        "# Student Evaluation"
      ],
      "metadata": {
        "id": "FbnMdB3zy92V"
      }
    },
    {
      "cell_type": "markdown",
      "source": [
        "Student Evaluation out of 7 marks"
      ],
      "metadata": {
        "id": "jb0s4TI_zFMI"
      }
    },
    {
      "cell_type": "markdown",
      "source": [
        "*1. Import the numpy package under the name np*"
      ],
      "metadata": {
        "id": "ETmxnB3azL3c"
      }
    },
    {
      "cell_type": "code",
      "source": [],
      "metadata": {
        "id": "1d2cqrW4zEdw"
      },
      "execution_count": null,
      "outputs": []
    },
    {
      "cell_type": "markdown",
      "source": [
        "*2.Create a null vector of size 10*"
      ],
      "metadata": {
        "id": "PnOpJToXzlVS"
      }
    },
    {
      "cell_type": "code",
      "source": [],
      "metadata": {
        "id": "GJcrVB2yz5Sc"
      },
      "execution_count": null,
      "outputs": []
    },
    {
      "cell_type": "markdown",
      "source": [
        "*3.Create a null vector of size 10 but the fifth value which is 1*"
      ],
      "metadata": {
        "id": "voVeSXoB0kfg"
      }
    },
    {
      "cell_type": "code",
      "source": [],
      "metadata": {
        "id": "02SkDNne0P4c"
      },
      "execution_count": null,
      "outputs": []
    },
    {
      "cell_type": "markdown",
      "source": [
        "*4.Create a vector with values ranging from 10 to 49*"
      ],
      "metadata": {
        "id": "Mbo04juP0y4C"
      }
    },
    {
      "cell_type": "code",
      "source": [],
      "metadata": {
        "id": "8lZh36iu0yQ7"
      },
      "execution_count": null,
      "outputs": []
    },
    {
      "cell_type": "markdown",
      "source": [
        "*5.Create a 3x3 matrix with following values:*\n",
        "\n",
        "![image.png](data:image/png;base64,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)\n",
        "\n",
        "\n",
        "\n",
        "\n"
      ],
      "metadata": {
        "id": "49NQEvzD1SX-"
      }
    },
    {
      "cell_type": "code",
      "source": [],
      "metadata": {
        "id": "8AMRf0VU1jk1"
      },
      "execution_count": null,
      "outputs": []
    },
    {
      "cell_type": "markdown",
      "source": [
        "*6.Flatten the 3x3 matrix*\n",
        "\n",
        "\n",
        "\n"
      ],
      "metadata": {
        "id": "5gzZhXRM2MpV"
      }
    },
    {
      "cell_type": "code",
      "source": [],
      "metadata": {
        "id": "fYAJzFdZ2T4s"
      },
      "execution_count": null,
      "outputs": []
    },
    {
      "cell_type": "markdown",
      "source": [
        "*7.Use numpy Indexing and slicing to access [6] in the above 3x3 matix*"
      ],
      "metadata": {
        "id": "4HWpODb-2aWB"
      }
    },
    {
      "cell_type": "code",
      "source": [],
      "metadata": {
        "id": "V7TtfnWt20u4"
      },
      "execution_count": null,
      "outputs": []
    }
  ]
}
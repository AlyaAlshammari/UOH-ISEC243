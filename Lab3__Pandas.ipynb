{
  "nbformat": 4,
  "nbformat_minor": 0,
  "metadata": {
    "colab": {
      "provenance": [],
      "authorship_tag": "ABX9TyMGtx6htMP8FjgYoQ5STHkH",
      "include_colab_link": true
    },
    "kernelspec": {
      "name": "python3",
      "display_name": "Python 3"
    },
    "language_info": {
      "name": "python"
    }
  },
  "cells": [
    {
      "cell_type": "markdown",
      "metadata": {
        "id": "view-in-github",
        "colab_type": "text"
      },
      "source": [
        "<a href=\"https://colab.research.google.com/github/AlyaAlshammari/UOH-ISEC243/blob/main/Lab3__Pandas.ipynb\" target=\"_parent\"><img src=\"https://colab.research.google.com/assets/colab-badge.svg\" alt=\"Open In Colab\"/></a>"
      ]
    },
    {
      "cell_type": "markdown",
      "source": [
        "# Pandas"
      ],
      "metadata": {
        "id": "86nUxVCud3GR"
      }
    },
    {
      "cell_type": "markdown",
      "source": [
        "![image.png](data:image/png;base64,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)"
      ],
      "metadata": {
        "id": "lo6_o7u__K0P"
      }
    },
    {
      "cell_type": "markdown",
      "source": [
        "The source of this notbook is https://pandas.pydata.org/docs/getting_started/overview.html  and  https://www.w3schools.com/python/pandas"
      ],
      "metadata": {
        "id": "Vk7TO3Jb3aUn"
      }
    },
    {
      "cell_type": "markdown",
      "source": [
        "## What is Pandas?"
      ],
      "metadata": {
        "id": "vOX4n1i1ebjd"
      }
    },
    {
      "cell_type": "markdown",
      "source": [
        "pandas is a Python package providing fast, flexible, and expressive data structures designed to make working with “relational” or “labeled” data both easy and intuitive. It aims to be the fundamental high-level building block for doing practical, real-world data analysis in Python. Additionally, it has the broader goal of becoming the most powerful and flexible open source data analysis/manipulation tool available in any language. It is already well on its way toward this goal."
      ],
      "metadata": {
        "id": "PA1ugUgCehrt"
      }
    },
    {
      "cell_type": "markdown",
      "source": [
        "Pandas is a Python library used for working with data sets.\n",
        "It has functions for analyzing, cleaning, exploring, and manipulating data."
      ],
      "metadata": {
        "id": "Y3H9Lomqe33u"
      }
    },
    {
      "cell_type": "markdown",
      "source": [
        "## How to import Pandas"
      ],
      "metadata": {
        "id": "Ij4jGMLSfmeX"
      }
    },
    {
      "cell_type": "code",
      "execution_count": 1,
      "metadata": {
        "id": "Ucg1fHdQd1JZ"
      },
      "outputs": [],
      "source": [
        "import pandas as pd"
      ]
    },
    {
      "cell_type": "markdown",
      "source": [
        "## Basic data structures in pandas"
      ],
      "metadata": {
        "id": "4OXMlmgZf2aB"
      }
    },
    {
      "cell_type": "markdown",
      "source": [
        "Pandas provides two types of classes for handling data:\n",
        "\n",
        "* Series: a one-dimensional labeled array holding data of any type\n",
        "such as integers, strings, Python objects etc.\n",
        "\n",
        "* DataFrame: a two-dimensional data structure that holds data like a two-dimension array or a table with rows and columns."
      ],
      "metadata": {
        "id": "yh-xZf9O_wgN"
      }
    },
    {
      "cell_type": "code",
      "source": [
        "#Create a simple Pandas Series from a list\n",
        "a = [1, 2, 3, 4, 5, 6]\n",
        "b= pd.Series(a)\n",
        "print(b)"
      ],
      "metadata": {
        "colab": {
          "base_uri": "https://localhost:8080/"
        },
        "id": "RuBJ4jSIf3ia",
        "outputId": "530a19ed-7c95-4990-8e18-f8e870cf994e"
      },
      "execution_count": 2,
      "outputs": [
        {
          "output_type": "stream",
          "name": "stdout",
          "text": [
            "0    1\n",
            "1    2\n",
            "2    3\n",
            "3    4\n",
            "4    5\n",
            "5    6\n",
            "dtype: int64\n"
          ]
        }
      ]
    },
    {
      "cell_type": "code",
      "source": [
        "# Create a DataFrame from two Series\n",
        "data = {\n",
        "  \"calories\": [420, 380, 390],\n",
        "  \"duration\": [50, 40, 45]\n",
        "}\n",
        "\n",
        "myvar = pd.DataFrame(data)\n",
        "\n",
        "print(myvar)"
      ],
      "metadata": {
        "colab": {
          "base_uri": "https://localhost:8080/"
        },
        "id": "069mew-xgDde",
        "outputId": "5769f1f2-ad0c-4a71-98f0-9ef0276563a0"
      },
      "execution_count": 3,
      "outputs": [
        {
          "output_type": "stream",
          "name": "stdout",
          "text": [
            "   calories  duration\n",
            "0       420        50\n",
            "1       380        40\n",
            "2       390        45\n"
          ]
        }
      ]
    },
    {
      "cell_type": "code",
      "source": [
        "# Create a DataFrame\n",
        "df = pd.DataFrame(\n",
        "    {\n",
        "        \"Name\": [\n",
        "            \"Braund, Mr. Owen Harris\",\n",
        "            \"Allen, Mr. William Henry\",\n",
        "            \"Bonnell, Miss. Elizabeth\",\n",
        "        ],\n",
        "        \"Age\": [22, 35, 58],\n",
        "        \"Sex\": [\"male\", \"male\", \"female\"],\n",
        "    }\n",
        ")\n",
        "\n",
        "\n",
        "df"
      ],
      "metadata": {
        "colab": {
          "base_uri": "https://localhost:8080/",
          "height": 143
        },
        "id": "Hz64kzI5BIT5",
        "outputId": "27a72d7d-3b3c-4582-82cd-e746f389fdb3"
      },
      "execution_count": 4,
      "outputs": [
        {
          "output_type": "execute_result",
          "data": {
            "text/plain": [
              "                       Name  Age     Sex\n",
              "0   Braund, Mr. Owen Harris   22    male\n",
              "1  Allen, Mr. William Henry   35    male\n",
              "2  Bonnell, Miss. Elizabeth   58  female"
            ],
            "text/html": [
              "\n",
              "  <div id=\"df-169f76fe-36c9-465d-abb0-20ff7218008a\" class=\"colab-df-container\">\n",
              "    <div>\n",
              "<style scoped>\n",
              "    .dataframe tbody tr th:only-of-type {\n",
              "        vertical-align: middle;\n",
              "    }\n",
              "\n",
              "    .dataframe tbody tr th {\n",
              "        vertical-align: top;\n",
              "    }\n",
              "\n",
              "    .dataframe thead th {\n",
              "        text-align: right;\n",
              "    }\n",
              "</style>\n",
              "<table border=\"1\" class=\"dataframe\">\n",
              "  <thead>\n",
              "    <tr style=\"text-align: right;\">\n",
              "      <th></th>\n",
              "      <th>Name</th>\n",
              "      <th>Age</th>\n",
              "      <th>Sex</th>\n",
              "    </tr>\n",
              "  </thead>\n",
              "  <tbody>\n",
              "    <tr>\n",
              "      <th>0</th>\n",
              "      <td>Braund, Mr. Owen Harris</td>\n",
              "      <td>22</td>\n",
              "      <td>male</td>\n",
              "    </tr>\n",
              "    <tr>\n",
              "      <th>1</th>\n",
              "      <td>Allen, Mr. William Henry</td>\n",
              "      <td>35</td>\n",
              "      <td>male</td>\n",
              "    </tr>\n",
              "    <tr>\n",
              "      <th>2</th>\n",
              "      <td>Bonnell, Miss. Elizabeth</td>\n",
              "      <td>58</td>\n",
              "      <td>female</td>\n",
              "    </tr>\n",
              "  </tbody>\n",
              "</table>\n",
              "</div>\n",
              "    <div class=\"colab-df-buttons\">\n",
              "\n",
              "  <div class=\"colab-df-container\">\n",
              "    <button class=\"colab-df-convert\" onclick=\"convertToInteractive('df-169f76fe-36c9-465d-abb0-20ff7218008a')\"\n",
              "            title=\"Convert this dataframe to an interactive table.\"\n",
              "            style=\"display:none;\">\n",
              "\n",
              "  <svg xmlns=\"http://www.w3.org/2000/svg\" height=\"24px\" viewBox=\"0 -960 960 960\">\n",
              "    <path d=\"M120-120v-720h720v720H120Zm60-500h600v-160H180v160Zm220 220h160v-160H400v160Zm0 220h160v-160H400v160ZM180-400h160v-160H180v160Zm440 0h160v-160H620v160ZM180-180h160v-160H180v160Zm440 0h160v-160H620v160Z\"/>\n",
              "  </svg>\n",
              "    </button>\n",
              "\n",
              "  <style>\n",
              "    .colab-df-container {\n",
              "      display:flex;\n",
              "      gap: 12px;\n",
              "    }\n",
              "\n",
              "    .colab-df-convert {\n",
              "      background-color: #E8F0FE;\n",
              "      border: none;\n",
              "      border-radius: 50%;\n",
              "      cursor: pointer;\n",
              "      display: none;\n",
              "      fill: #1967D2;\n",
              "      height: 32px;\n",
              "      padding: 0 0 0 0;\n",
              "      width: 32px;\n",
              "    }\n",
              "\n",
              "    .colab-df-convert:hover {\n",
              "      background-color: #E2EBFA;\n",
              "      box-shadow: 0px 1px 2px rgba(60, 64, 67, 0.3), 0px 1px 3px 1px rgba(60, 64, 67, 0.15);\n",
              "      fill: #174EA6;\n",
              "    }\n",
              "\n",
              "    .colab-df-buttons div {\n",
              "      margin-bottom: 4px;\n",
              "    }\n",
              "\n",
              "    [theme=dark] .colab-df-convert {\n",
              "      background-color: #3B4455;\n",
              "      fill: #D2E3FC;\n",
              "    }\n",
              "\n",
              "    [theme=dark] .colab-df-convert:hover {\n",
              "      background-color: #434B5C;\n",
              "      box-shadow: 0px 1px 3px 1px rgba(0, 0, 0, 0.15);\n",
              "      filter: drop-shadow(0px 1px 2px rgba(0, 0, 0, 0.3));\n",
              "      fill: #FFFFFF;\n",
              "    }\n",
              "  </style>\n",
              "\n",
              "    <script>\n",
              "      const buttonEl =\n",
              "        document.querySelector('#df-169f76fe-36c9-465d-abb0-20ff7218008a button.colab-df-convert');\n",
              "      buttonEl.style.display =\n",
              "        google.colab.kernel.accessAllowed ? 'block' : 'none';\n",
              "\n",
              "      async function convertToInteractive(key) {\n",
              "        const element = document.querySelector('#df-169f76fe-36c9-465d-abb0-20ff7218008a');\n",
              "        const dataTable =\n",
              "          await google.colab.kernel.invokeFunction('convertToInteractive',\n",
              "                                                    [key], {});\n",
              "        if (!dataTable) return;\n",
              "\n",
              "        const docLinkHtml = 'Like what you see? Visit the ' +\n",
              "          '<a target=\"_blank\" href=https://colab.research.google.com/notebooks/data_table.ipynb>data table notebook</a>'\n",
              "          + ' to learn more about interactive tables.';\n",
              "        element.innerHTML = '';\n",
              "        dataTable['output_type'] = 'display_data';\n",
              "        await google.colab.output.renderOutput(dataTable, element);\n",
              "        const docLink = document.createElement('div');\n",
              "        docLink.innerHTML = docLinkHtml;\n",
              "        element.appendChild(docLink);\n",
              "      }\n",
              "    </script>\n",
              "  </div>\n",
              "\n",
              "\n",
              "<div id=\"df-1cd6c2fb-fd8c-46b7-b915-550e9c8cec66\">\n",
              "  <button class=\"colab-df-quickchart\" onclick=\"quickchart('df-1cd6c2fb-fd8c-46b7-b915-550e9c8cec66')\"\n",
              "            title=\"Suggest charts\"\n",
              "            style=\"display:none;\">\n",
              "\n",
              "<svg xmlns=\"http://www.w3.org/2000/svg\" height=\"24px\"viewBox=\"0 0 24 24\"\n",
              "     width=\"24px\">\n",
              "    <g>\n",
              "        <path d=\"M19 3H5c-1.1 0-2 .9-2 2v14c0 1.1.9 2 2 2h14c1.1 0 2-.9 2-2V5c0-1.1-.9-2-2-2zM9 17H7v-7h2v7zm4 0h-2V7h2v10zm4 0h-2v-4h2v4z\"/>\n",
              "    </g>\n",
              "</svg>\n",
              "  </button>\n",
              "\n",
              "<style>\n",
              "  .colab-df-quickchart {\n",
              "      --bg-color: #E8F0FE;\n",
              "      --fill-color: #1967D2;\n",
              "      --hover-bg-color: #E2EBFA;\n",
              "      --hover-fill-color: #174EA6;\n",
              "      --disabled-fill-color: #AAA;\n",
              "      --disabled-bg-color: #DDD;\n",
              "  }\n",
              "\n",
              "  [theme=dark] .colab-df-quickchart {\n",
              "      --bg-color: #3B4455;\n",
              "      --fill-color: #D2E3FC;\n",
              "      --hover-bg-color: #434B5C;\n",
              "      --hover-fill-color: #FFFFFF;\n",
              "      --disabled-bg-color: #3B4455;\n",
              "      --disabled-fill-color: #666;\n",
              "  }\n",
              "\n",
              "  .colab-df-quickchart {\n",
              "    background-color: var(--bg-color);\n",
              "    border: none;\n",
              "    border-radius: 50%;\n",
              "    cursor: pointer;\n",
              "    display: none;\n",
              "    fill: var(--fill-color);\n",
              "    height: 32px;\n",
              "    padding: 0;\n",
              "    width: 32px;\n",
              "  }\n",
              "\n",
              "  .colab-df-quickchart:hover {\n",
              "    background-color: var(--hover-bg-color);\n",
              "    box-shadow: 0 1px 2px rgba(60, 64, 67, 0.3), 0 1px 3px 1px rgba(60, 64, 67, 0.15);\n",
              "    fill: var(--button-hover-fill-color);\n",
              "  }\n",
              "\n",
              "  .colab-df-quickchart-complete:disabled,\n",
              "  .colab-df-quickchart-complete:disabled:hover {\n",
              "    background-color: var(--disabled-bg-color);\n",
              "    fill: var(--disabled-fill-color);\n",
              "    box-shadow: none;\n",
              "  }\n",
              "\n",
              "  .colab-df-spinner {\n",
              "    border: 2px solid var(--fill-color);\n",
              "    border-color: transparent;\n",
              "    border-bottom-color: var(--fill-color);\n",
              "    animation:\n",
              "      spin 1s steps(1) infinite;\n",
              "  }\n",
              "\n",
              "  @keyframes spin {\n",
              "    0% {\n",
              "      border-color: transparent;\n",
              "      border-bottom-color: var(--fill-color);\n",
              "      border-left-color: var(--fill-color);\n",
              "    }\n",
              "    20% {\n",
              "      border-color: transparent;\n",
              "      border-left-color: var(--fill-color);\n",
              "      border-top-color: var(--fill-color);\n",
              "    }\n",
              "    30% {\n",
              "      border-color: transparent;\n",
              "      border-left-color: var(--fill-color);\n",
              "      border-top-color: var(--fill-color);\n",
              "      border-right-color: var(--fill-color);\n",
              "    }\n",
              "    40% {\n",
              "      border-color: transparent;\n",
              "      border-right-color: var(--fill-color);\n",
              "      border-top-color: var(--fill-color);\n",
              "    }\n",
              "    60% {\n",
              "      border-color: transparent;\n",
              "      border-right-color: var(--fill-color);\n",
              "    }\n",
              "    80% {\n",
              "      border-color: transparent;\n",
              "      border-right-color: var(--fill-color);\n",
              "      border-bottom-color: var(--fill-color);\n",
              "    }\n",
              "    90% {\n",
              "      border-color: transparent;\n",
              "      border-bottom-color: var(--fill-color);\n",
              "    }\n",
              "  }\n",
              "</style>\n",
              "\n",
              "  <script>\n",
              "    async function quickchart(key) {\n",
              "      const quickchartButtonEl =\n",
              "        document.querySelector('#' + key + ' button');\n",
              "      quickchartButtonEl.disabled = true;  // To prevent multiple clicks.\n",
              "      quickchartButtonEl.classList.add('colab-df-spinner');\n",
              "      try {\n",
              "        const charts = await google.colab.kernel.invokeFunction(\n",
              "            'suggestCharts', [key], {});\n",
              "      } catch (error) {\n",
              "        console.error('Error during call to suggestCharts:', error);\n",
              "      }\n",
              "      quickchartButtonEl.classList.remove('colab-df-spinner');\n",
              "      quickchartButtonEl.classList.add('colab-df-quickchart-complete');\n",
              "    }\n",
              "    (() => {\n",
              "      let quickchartButtonEl =\n",
              "        document.querySelector('#df-1cd6c2fb-fd8c-46b7-b915-550e9c8cec66 button');\n",
              "      quickchartButtonEl.style.display =\n",
              "        google.colab.kernel.accessAllowed ? 'block' : 'none';\n",
              "    })();\n",
              "  </script>\n",
              "</div>\n",
              "\n",
              "  <div id=\"id_09a09d8c-7766-41d8-9db2-a93cb7846f0f\">\n",
              "    <style>\n",
              "      .colab-df-generate {\n",
              "        background-color: #E8F0FE;\n",
              "        border: none;\n",
              "        border-radius: 50%;\n",
              "        cursor: pointer;\n",
              "        display: none;\n",
              "        fill: #1967D2;\n",
              "        height: 32px;\n",
              "        padding: 0 0 0 0;\n",
              "        width: 32px;\n",
              "      }\n",
              "\n",
              "      .colab-df-generate:hover {\n",
              "        background-color: #E2EBFA;\n",
              "        box-shadow: 0px 1px 2px rgba(60, 64, 67, 0.3), 0px 1px 3px 1px rgba(60, 64, 67, 0.15);\n",
              "        fill: #174EA6;\n",
              "      }\n",
              "\n",
              "      [theme=dark] .colab-df-generate {\n",
              "        background-color: #3B4455;\n",
              "        fill: #D2E3FC;\n",
              "      }\n",
              "\n",
              "      [theme=dark] .colab-df-generate:hover {\n",
              "        background-color: #434B5C;\n",
              "        box-shadow: 0px 1px 3px 1px rgba(0, 0, 0, 0.15);\n",
              "        filter: drop-shadow(0px 1px 2px rgba(0, 0, 0, 0.3));\n",
              "        fill: #FFFFFF;\n",
              "      }\n",
              "    </style>\n",
              "    <button class=\"colab-df-generate\" onclick=\"generateWithVariable('df')\"\n",
              "            title=\"Generate code using this dataframe.\"\n",
              "            style=\"display:none;\">\n",
              "\n",
              "  <svg xmlns=\"http://www.w3.org/2000/svg\" height=\"24px\"viewBox=\"0 0 24 24\"\n",
              "       width=\"24px\">\n",
              "    <path d=\"M7,19H8.4L18.45,9,17,7.55,7,17.6ZM5,21V16.75L18.45,3.32a2,2,0,0,1,2.83,0l1.4,1.43a1.91,1.91,0,0,1,.58,1.4,1.91,1.91,0,0,1-.58,1.4L9.25,21ZM18.45,9,17,7.55Zm-12,3A5.31,5.31,0,0,0,4.9,8.1,5.31,5.31,0,0,0,1,6.5,5.31,5.31,0,0,0,4.9,4.9,5.31,5.31,0,0,0,6.5,1,5.31,5.31,0,0,0,8.1,4.9,5.31,5.31,0,0,0,12,6.5,5.46,5.46,0,0,0,6.5,12Z\"/>\n",
              "  </svg>\n",
              "    </button>\n",
              "    <script>\n",
              "      (() => {\n",
              "      const buttonEl =\n",
              "        document.querySelector('#id_09a09d8c-7766-41d8-9db2-a93cb7846f0f button.colab-df-generate');\n",
              "      buttonEl.style.display =\n",
              "        google.colab.kernel.accessAllowed ? 'block' : 'none';\n",
              "\n",
              "      buttonEl.onclick = () => {\n",
              "        google.colab.notebook.generateWithVariable('df');\n",
              "      }\n",
              "      })();\n",
              "    </script>\n",
              "  </div>\n",
              "\n",
              "    </div>\n",
              "  </div>\n"
            ],
            "application/vnd.google.colaboratory.intrinsic+json": {
              "type": "dataframe",
              "variable_name": "df",
              "summary": "{\n  \"name\": \"df\",\n  \"rows\": 3,\n  \"fields\": [\n    {\n      \"column\": \"Name\",\n      \"properties\": {\n        \"dtype\": \"string\",\n        \"samples\": [\n          \"Braund, Mr. Owen Harris\",\n          \"Allen, Mr. William Henry\",\n          \"Bonnell, Miss. Elizabeth\"\n        ],\n        \"num_unique_values\": 3,\n        \"semantic_type\": \"\",\n        \"description\": \"\"\n      }\n    },\n    {\n      \"column\": \"Age\",\n      \"properties\": {\n        \"dtype\": \"number\",\n        \"std\": 18,\n        \"min\": 22,\n        \"max\": 58,\n        \"samples\": [\n          22,\n          35,\n          58\n        ],\n        \"num_unique_values\": 3,\n        \"semantic_type\": \"\",\n        \"description\": \"\"\n      }\n    },\n    {\n      \"column\": \"Sex\",\n      \"properties\": {\n        \"dtype\": \"string\",\n        \"samples\": [\n          \"female\",\n          \"male\"\n        ],\n        \"num_unique_values\": 2,\n        \"semantic_type\": \"\",\n        \"description\": \"\"\n      }\n    }\n  ]\n}"
            }
          },
          "metadata": {},
          "execution_count": 4
        }
      ]
    },
    {
      "cell_type": "markdown",
      "source": [
        "## Viewing data"
      ],
      "metadata": {
        "id": "pcoofCLdBiGn"
      }
    },
    {
      "cell_type": "code",
      "source": [
        "# Use DataFrame.head() and DataFrame.tail() to view the top and bottom rows of the frame respectively\n",
        "df.head(2)\n"
      ],
      "metadata": {
        "colab": {
          "base_uri": "https://localhost:8080/",
          "height": 112
        },
        "id": "x0QPNy1kgexo",
        "outputId": "fa9be847-1839-4e5e-95c3-74a769c3e1d0"
      },
      "execution_count": 5,
      "outputs": [
        {
          "output_type": "execute_result",
          "data": {
            "text/plain": [
              "                       Name  Age   Sex\n",
              "0   Braund, Mr. Owen Harris   22  male\n",
              "1  Allen, Mr. William Henry   35  male"
            ],
            "text/html": [
              "\n",
              "  <div id=\"df-bc2c79e4-a3f1-4796-a0eb-4c87d23ec774\" class=\"colab-df-container\">\n",
              "    <div>\n",
              "<style scoped>\n",
              "    .dataframe tbody tr th:only-of-type {\n",
              "        vertical-align: middle;\n",
              "    }\n",
              "\n",
              "    .dataframe tbody tr th {\n",
              "        vertical-align: top;\n",
              "    }\n",
              "\n",
              "    .dataframe thead th {\n",
              "        text-align: right;\n",
              "    }\n",
              "</style>\n",
              "<table border=\"1\" class=\"dataframe\">\n",
              "  <thead>\n",
              "    <tr style=\"text-align: right;\">\n",
              "      <th></th>\n",
              "      <th>Name</th>\n",
              "      <th>Age</th>\n",
              "      <th>Sex</th>\n",
              "    </tr>\n",
              "  </thead>\n",
              "  <tbody>\n",
              "    <tr>\n",
              "      <th>0</th>\n",
              "      <td>Braund, Mr. Owen Harris</td>\n",
              "      <td>22</td>\n",
              "      <td>male</td>\n",
              "    </tr>\n",
              "    <tr>\n",
              "      <th>1</th>\n",
              "      <td>Allen, Mr. William Henry</td>\n",
              "      <td>35</td>\n",
              "      <td>male</td>\n",
              "    </tr>\n",
              "  </tbody>\n",
              "</table>\n",
              "</div>\n",
              "    <div class=\"colab-df-buttons\">\n",
              "\n",
              "  <div class=\"colab-df-container\">\n",
              "    <button class=\"colab-df-convert\" onclick=\"convertToInteractive('df-bc2c79e4-a3f1-4796-a0eb-4c87d23ec774')\"\n",
              "            title=\"Convert this dataframe to an interactive table.\"\n",
              "            style=\"display:none;\">\n",
              "\n",
              "  <svg xmlns=\"http://www.w3.org/2000/svg\" height=\"24px\" viewBox=\"0 -960 960 960\">\n",
              "    <path d=\"M120-120v-720h720v720H120Zm60-500h600v-160H180v160Zm220 220h160v-160H400v160Zm0 220h160v-160H400v160ZM180-400h160v-160H180v160Zm440 0h160v-160H620v160ZM180-180h160v-160H180v160Zm440 0h160v-160H620v160Z\"/>\n",
              "  </svg>\n",
              "    </button>\n",
              "\n",
              "  <style>\n",
              "    .colab-df-container {\n",
              "      display:flex;\n",
              "      gap: 12px;\n",
              "    }\n",
              "\n",
              "    .colab-df-convert {\n",
              "      background-color: #E8F0FE;\n",
              "      border: none;\n",
              "      border-radius: 50%;\n",
              "      cursor: pointer;\n",
              "      display: none;\n",
              "      fill: #1967D2;\n",
              "      height: 32px;\n",
              "      padding: 0 0 0 0;\n",
              "      width: 32px;\n",
              "    }\n",
              "\n",
              "    .colab-df-convert:hover {\n",
              "      background-color: #E2EBFA;\n",
              "      box-shadow: 0px 1px 2px rgba(60, 64, 67, 0.3), 0px 1px 3px 1px rgba(60, 64, 67, 0.15);\n",
              "      fill: #174EA6;\n",
              "    }\n",
              "\n",
              "    .colab-df-buttons div {\n",
              "      margin-bottom: 4px;\n",
              "    }\n",
              "\n",
              "    [theme=dark] .colab-df-convert {\n",
              "      background-color: #3B4455;\n",
              "      fill: #D2E3FC;\n",
              "    }\n",
              "\n",
              "    [theme=dark] .colab-df-convert:hover {\n",
              "      background-color: #434B5C;\n",
              "      box-shadow: 0px 1px 3px 1px rgba(0, 0, 0, 0.15);\n",
              "      filter: drop-shadow(0px 1px 2px rgba(0, 0, 0, 0.3));\n",
              "      fill: #FFFFFF;\n",
              "    }\n",
              "  </style>\n",
              "\n",
              "    <script>\n",
              "      const buttonEl =\n",
              "        document.querySelector('#df-bc2c79e4-a3f1-4796-a0eb-4c87d23ec774 button.colab-df-convert');\n",
              "      buttonEl.style.display =\n",
              "        google.colab.kernel.accessAllowed ? 'block' : 'none';\n",
              "\n",
              "      async function convertToInteractive(key) {\n",
              "        const element = document.querySelector('#df-bc2c79e4-a3f1-4796-a0eb-4c87d23ec774');\n",
              "        const dataTable =\n",
              "          await google.colab.kernel.invokeFunction('convertToInteractive',\n",
              "                                                    [key], {});\n",
              "        if (!dataTable) return;\n",
              "\n",
              "        const docLinkHtml = 'Like what you see? Visit the ' +\n",
              "          '<a target=\"_blank\" href=https://colab.research.google.com/notebooks/data_table.ipynb>data table notebook</a>'\n",
              "          + ' to learn more about interactive tables.';\n",
              "        element.innerHTML = '';\n",
              "        dataTable['output_type'] = 'display_data';\n",
              "        await google.colab.output.renderOutput(dataTable, element);\n",
              "        const docLink = document.createElement('div');\n",
              "        docLink.innerHTML = docLinkHtml;\n",
              "        element.appendChild(docLink);\n",
              "      }\n",
              "    </script>\n",
              "  </div>\n",
              "\n",
              "\n",
              "<div id=\"df-196e28a7-26df-4b8d-8106-61f00b294438\">\n",
              "  <button class=\"colab-df-quickchart\" onclick=\"quickchart('df-196e28a7-26df-4b8d-8106-61f00b294438')\"\n",
              "            title=\"Suggest charts\"\n",
              "            style=\"display:none;\">\n",
              "\n",
              "<svg xmlns=\"http://www.w3.org/2000/svg\" height=\"24px\"viewBox=\"0 0 24 24\"\n",
              "     width=\"24px\">\n",
              "    <g>\n",
              "        <path d=\"M19 3H5c-1.1 0-2 .9-2 2v14c0 1.1.9 2 2 2h14c1.1 0 2-.9 2-2V5c0-1.1-.9-2-2-2zM9 17H7v-7h2v7zm4 0h-2V7h2v10zm4 0h-2v-4h2v4z\"/>\n",
              "    </g>\n",
              "</svg>\n",
              "  </button>\n",
              "\n",
              "<style>\n",
              "  .colab-df-quickchart {\n",
              "      --bg-color: #E8F0FE;\n",
              "      --fill-color: #1967D2;\n",
              "      --hover-bg-color: #E2EBFA;\n",
              "      --hover-fill-color: #174EA6;\n",
              "      --disabled-fill-color: #AAA;\n",
              "      --disabled-bg-color: #DDD;\n",
              "  }\n",
              "\n",
              "  [theme=dark] .colab-df-quickchart {\n",
              "      --bg-color: #3B4455;\n",
              "      --fill-color: #D2E3FC;\n",
              "      --hover-bg-color: #434B5C;\n",
              "      --hover-fill-color: #FFFFFF;\n",
              "      --disabled-bg-color: #3B4455;\n",
              "      --disabled-fill-color: #666;\n",
              "  }\n",
              "\n",
              "  .colab-df-quickchart {\n",
              "    background-color: var(--bg-color);\n",
              "    border: none;\n",
              "    border-radius: 50%;\n",
              "    cursor: pointer;\n",
              "    display: none;\n",
              "    fill: var(--fill-color);\n",
              "    height: 32px;\n",
              "    padding: 0;\n",
              "    width: 32px;\n",
              "  }\n",
              "\n",
              "  .colab-df-quickchart:hover {\n",
              "    background-color: var(--hover-bg-color);\n",
              "    box-shadow: 0 1px 2px rgba(60, 64, 67, 0.3), 0 1px 3px 1px rgba(60, 64, 67, 0.15);\n",
              "    fill: var(--button-hover-fill-color);\n",
              "  }\n",
              "\n",
              "  .colab-df-quickchart-complete:disabled,\n",
              "  .colab-df-quickchart-complete:disabled:hover {\n",
              "    background-color: var(--disabled-bg-color);\n",
              "    fill: var(--disabled-fill-color);\n",
              "    box-shadow: none;\n",
              "  }\n",
              "\n",
              "  .colab-df-spinner {\n",
              "    border: 2px solid var(--fill-color);\n",
              "    border-color: transparent;\n",
              "    border-bottom-color: var(--fill-color);\n",
              "    animation:\n",
              "      spin 1s steps(1) infinite;\n",
              "  }\n",
              "\n",
              "  @keyframes spin {\n",
              "    0% {\n",
              "      border-color: transparent;\n",
              "      border-bottom-color: var(--fill-color);\n",
              "      border-left-color: var(--fill-color);\n",
              "    }\n",
              "    20% {\n",
              "      border-color: transparent;\n",
              "      border-left-color: var(--fill-color);\n",
              "      border-top-color: var(--fill-color);\n",
              "    }\n",
              "    30% {\n",
              "      border-color: transparent;\n",
              "      border-left-color: var(--fill-color);\n",
              "      border-top-color: var(--fill-color);\n",
              "      border-right-color: var(--fill-color);\n",
              "    }\n",
              "    40% {\n",
              "      border-color: transparent;\n",
              "      border-right-color: var(--fill-color);\n",
              "      border-top-color: var(--fill-color);\n",
              "    }\n",
              "    60% {\n",
              "      border-color: transparent;\n",
              "      border-right-color: var(--fill-color);\n",
              "    }\n",
              "    80% {\n",
              "      border-color: transparent;\n",
              "      border-right-color: var(--fill-color);\n",
              "      border-bottom-color: var(--fill-color);\n",
              "    }\n",
              "    90% {\n",
              "      border-color: transparent;\n",
              "      border-bottom-color: var(--fill-color);\n",
              "    }\n",
              "  }\n",
              "</style>\n",
              "\n",
              "  <script>\n",
              "    async function quickchart(key) {\n",
              "      const quickchartButtonEl =\n",
              "        document.querySelector('#' + key + ' button');\n",
              "      quickchartButtonEl.disabled = true;  // To prevent multiple clicks.\n",
              "      quickchartButtonEl.classList.add('colab-df-spinner');\n",
              "      try {\n",
              "        const charts = await google.colab.kernel.invokeFunction(\n",
              "            'suggestCharts', [key], {});\n",
              "      } catch (error) {\n",
              "        console.error('Error during call to suggestCharts:', error);\n",
              "      }\n",
              "      quickchartButtonEl.classList.remove('colab-df-spinner');\n",
              "      quickchartButtonEl.classList.add('colab-df-quickchart-complete');\n",
              "    }\n",
              "    (() => {\n",
              "      let quickchartButtonEl =\n",
              "        document.querySelector('#df-196e28a7-26df-4b8d-8106-61f00b294438 button');\n",
              "      quickchartButtonEl.style.display =\n",
              "        google.colab.kernel.accessAllowed ? 'block' : 'none';\n",
              "    })();\n",
              "  </script>\n",
              "</div>\n",
              "\n",
              "    </div>\n",
              "  </div>\n"
            ],
            "application/vnd.google.colaboratory.intrinsic+json": {
              "type": "dataframe",
              "variable_name": "df",
              "summary": "{\n  \"name\": \"df\",\n  \"rows\": 3,\n  \"fields\": [\n    {\n      \"column\": \"Name\",\n      \"properties\": {\n        \"dtype\": \"string\",\n        \"samples\": [\n          \"Braund, Mr. Owen Harris\",\n          \"Allen, Mr. William Henry\",\n          \"Bonnell, Miss. Elizabeth\"\n        ],\n        \"num_unique_values\": 3,\n        \"semantic_type\": \"\",\n        \"description\": \"\"\n      }\n    },\n    {\n      \"column\": \"Age\",\n      \"properties\": {\n        \"dtype\": \"number\",\n        \"std\": 18,\n        \"min\": 22,\n        \"max\": 58,\n        \"samples\": [\n          22,\n          35,\n          58\n        ],\n        \"num_unique_values\": 3,\n        \"semantic_type\": \"\",\n        \"description\": \"\"\n      }\n    },\n    {\n      \"column\": \"Sex\",\n      \"properties\": {\n        \"dtype\": \"string\",\n        \"samples\": [\n          \"female\",\n          \"male\"\n        ],\n        \"num_unique_values\": 2,\n        \"semantic_type\": \"\",\n        \"description\": \"\"\n      }\n    }\n  ]\n}"
            }
          },
          "metadata": {},
          "execution_count": 5
        }
      ]
    },
    {
      "cell_type": "code",
      "source": [
        "df.tail(1)"
      ],
      "metadata": {
        "colab": {
          "base_uri": "https://localhost:8080/",
          "height": 80
        },
        "id": "ZzMWqCW_B1y5",
        "outputId": "928c2ec9-60a2-4057-e29a-72a8086ef0fb"
      },
      "execution_count": 6,
      "outputs": [
        {
          "output_type": "execute_result",
          "data": {
            "text/plain": [
              "                       Name  Age     Sex\n",
              "2  Bonnell, Miss. Elizabeth   58  female"
            ],
            "text/html": [
              "\n",
              "  <div id=\"df-126f8af9-f8e7-4577-b988-26dbcebe8afd\" class=\"colab-df-container\">\n",
              "    <div>\n",
              "<style scoped>\n",
              "    .dataframe tbody tr th:only-of-type {\n",
              "        vertical-align: middle;\n",
              "    }\n",
              "\n",
              "    .dataframe tbody tr th {\n",
              "        vertical-align: top;\n",
              "    }\n",
              "\n",
              "    .dataframe thead th {\n",
              "        text-align: right;\n",
              "    }\n",
              "</style>\n",
              "<table border=\"1\" class=\"dataframe\">\n",
              "  <thead>\n",
              "    <tr style=\"text-align: right;\">\n",
              "      <th></th>\n",
              "      <th>Name</th>\n",
              "      <th>Age</th>\n",
              "      <th>Sex</th>\n",
              "    </tr>\n",
              "  </thead>\n",
              "  <tbody>\n",
              "    <tr>\n",
              "      <th>2</th>\n",
              "      <td>Bonnell, Miss. Elizabeth</td>\n",
              "      <td>58</td>\n",
              "      <td>female</td>\n",
              "    </tr>\n",
              "  </tbody>\n",
              "</table>\n",
              "</div>\n",
              "    <div class=\"colab-df-buttons\">\n",
              "\n",
              "  <div class=\"colab-df-container\">\n",
              "    <button class=\"colab-df-convert\" onclick=\"convertToInteractive('df-126f8af9-f8e7-4577-b988-26dbcebe8afd')\"\n",
              "            title=\"Convert this dataframe to an interactive table.\"\n",
              "            style=\"display:none;\">\n",
              "\n",
              "  <svg xmlns=\"http://www.w3.org/2000/svg\" height=\"24px\" viewBox=\"0 -960 960 960\">\n",
              "    <path d=\"M120-120v-720h720v720H120Zm60-500h600v-160H180v160Zm220 220h160v-160H400v160Zm0 220h160v-160H400v160ZM180-400h160v-160H180v160Zm440 0h160v-160H620v160ZM180-180h160v-160H180v160Zm440 0h160v-160H620v160Z\"/>\n",
              "  </svg>\n",
              "    </button>\n",
              "\n",
              "  <style>\n",
              "    .colab-df-container {\n",
              "      display:flex;\n",
              "      gap: 12px;\n",
              "    }\n",
              "\n",
              "    .colab-df-convert {\n",
              "      background-color: #E8F0FE;\n",
              "      border: none;\n",
              "      border-radius: 50%;\n",
              "      cursor: pointer;\n",
              "      display: none;\n",
              "      fill: #1967D2;\n",
              "      height: 32px;\n",
              "      padding: 0 0 0 0;\n",
              "      width: 32px;\n",
              "    }\n",
              "\n",
              "    .colab-df-convert:hover {\n",
              "      background-color: #E2EBFA;\n",
              "      box-shadow: 0px 1px 2px rgba(60, 64, 67, 0.3), 0px 1px 3px 1px rgba(60, 64, 67, 0.15);\n",
              "      fill: #174EA6;\n",
              "    }\n",
              "\n",
              "    .colab-df-buttons div {\n",
              "      margin-bottom: 4px;\n",
              "    }\n",
              "\n",
              "    [theme=dark] .colab-df-convert {\n",
              "      background-color: #3B4455;\n",
              "      fill: #D2E3FC;\n",
              "    }\n",
              "\n",
              "    [theme=dark] .colab-df-convert:hover {\n",
              "      background-color: #434B5C;\n",
              "      box-shadow: 0px 1px 3px 1px rgba(0, 0, 0, 0.15);\n",
              "      filter: drop-shadow(0px 1px 2px rgba(0, 0, 0, 0.3));\n",
              "      fill: #FFFFFF;\n",
              "    }\n",
              "  </style>\n",
              "\n",
              "    <script>\n",
              "      const buttonEl =\n",
              "        document.querySelector('#df-126f8af9-f8e7-4577-b988-26dbcebe8afd button.colab-df-convert');\n",
              "      buttonEl.style.display =\n",
              "        google.colab.kernel.accessAllowed ? 'block' : 'none';\n",
              "\n",
              "      async function convertToInteractive(key) {\n",
              "        const element = document.querySelector('#df-126f8af9-f8e7-4577-b988-26dbcebe8afd');\n",
              "        const dataTable =\n",
              "          await google.colab.kernel.invokeFunction('convertToInteractive',\n",
              "                                                    [key], {});\n",
              "        if (!dataTable) return;\n",
              "\n",
              "        const docLinkHtml = 'Like what you see? Visit the ' +\n",
              "          '<a target=\"_blank\" href=https://colab.research.google.com/notebooks/data_table.ipynb>data table notebook</a>'\n",
              "          + ' to learn more about interactive tables.';\n",
              "        element.innerHTML = '';\n",
              "        dataTable['output_type'] = 'display_data';\n",
              "        await google.colab.output.renderOutput(dataTable, element);\n",
              "        const docLink = document.createElement('div');\n",
              "        docLink.innerHTML = docLinkHtml;\n",
              "        element.appendChild(docLink);\n",
              "      }\n",
              "    </script>\n",
              "  </div>\n",
              "\n",
              "\n",
              "    </div>\n",
              "  </div>\n"
            ],
            "application/vnd.google.colaboratory.intrinsic+json": {
              "type": "dataframe",
              "repr_error": "cannot convert float NaN to integer"
            }
          },
          "metadata": {},
          "execution_count": 6
        }
      ]
    },
    {
      "cell_type": "code",
      "source": [
        "# Display the DataFrame.index or DataFrame.columns\n",
        "df.index"
      ],
      "metadata": {
        "colab": {
          "base_uri": "https://localhost:8080/"
        },
        "id": "zHbAmAcqhEjm",
        "outputId": "0bf10485-003b-4c41-dff2-177cd5caf79b"
      },
      "execution_count": 7,
      "outputs": [
        {
          "output_type": "execute_result",
          "data": {
            "text/plain": [
              "RangeIndex(start=0, stop=3, step=1)"
            ]
          },
          "metadata": {},
          "execution_count": 7
        }
      ]
    },
    {
      "cell_type": "code",
      "source": [
        "df.columns"
      ],
      "metadata": {
        "colab": {
          "base_uri": "https://localhost:8080/"
        },
        "id": "64cKfNJFCCw1",
        "outputId": "c7026935-2725-457e-da1a-cddb1f9decc7"
      },
      "execution_count": 8,
      "outputs": [
        {
          "output_type": "execute_result",
          "data": {
            "text/plain": [
              "Index(['Name', 'Age', 'Sex'], dtype='object')"
            ]
          },
          "metadata": {},
          "execution_count": 8
        }
      ]
    },
    {
      "cell_type": "code",
      "source": [
        "# Return a NumPy representation of the underlying data with DataFrame.to_numpy() without the index or column labels\n",
        "df.to_numpy()"
      ],
      "metadata": {
        "colab": {
          "base_uri": "https://localhost:8080/"
        },
        "id": "JyHmZCwzhp5b",
        "outputId": "cc9e82b5-80cf-4b7c-b2ba-b2b27ee2f8d2"
      },
      "execution_count": 9,
      "outputs": [
        {
          "output_type": "execute_result",
          "data": {
            "text/plain": [
              "array([['Braund, Mr. Owen Harris', 22, 'male'],\n",
              "       ['Allen, Mr. William Henry', 35, 'male'],\n",
              "       ['Bonnell, Miss. Elizabeth', 58, 'female']], dtype=object)"
            ]
          },
          "metadata": {},
          "execution_count": 9
        }
      ]
    },
    {
      "cell_type": "code",
      "source": [
        "# describe() shows a quick statistic summary of your data\n",
        "df.describe()"
      ],
      "metadata": {
        "colab": {
          "base_uri": "https://localhost:8080/",
          "height": 300
        },
        "id": "D_VH7Zbsirs8",
        "outputId": "1e7074c6-fec3-423c-8884-3d673e908327"
      },
      "execution_count": 10,
      "outputs": [
        {
          "output_type": "execute_result",
          "data": {
            "text/plain": [
              "             Age\n",
              "count   3.000000\n",
              "mean   38.333333\n",
              "std    18.230012\n",
              "min    22.000000\n",
              "25%    28.500000\n",
              "50%    35.000000\n",
              "75%    46.500000\n",
              "max    58.000000"
            ],
            "text/html": [
              "\n",
              "  <div id=\"df-044765e2-36d1-449d-ac53-ee701fc7814b\" class=\"colab-df-container\">\n",
              "    <div>\n",
              "<style scoped>\n",
              "    .dataframe tbody tr th:only-of-type {\n",
              "        vertical-align: middle;\n",
              "    }\n",
              "\n",
              "    .dataframe tbody tr th {\n",
              "        vertical-align: top;\n",
              "    }\n",
              "\n",
              "    .dataframe thead th {\n",
              "        text-align: right;\n",
              "    }\n",
              "</style>\n",
              "<table border=\"1\" class=\"dataframe\">\n",
              "  <thead>\n",
              "    <tr style=\"text-align: right;\">\n",
              "      <th></th>\n",
              "      <th>Age</th>\n",
              "    </tr>\n",
              "  </thead>\n",
              "  <tbody>\n",
              "    <tr>\n",
              "      <th>count</th>\n",
              "      <td>3.000000</td>\n",
              "    </tr>\n",
              "    <tr>\n",
              "      <th>mean</th>\n",
              "      <td>38.333333</td>\n",
              "    </tr>\n",
              "    <tr>\n",
              "      <th>std</th>\n",
              "      <td>18.230012</td>\n",
              "    </tr>\n",
              "    <tr>\n",
              "      <th>min</th>\n",
              "      <td>22.000000</td>\n",
              "    </tr>\n",
              "    <tr>\n",
              "      <th>25%</th>\n",
              "      <td>28.500000</td>\n",
              "    </tr>\n",
              "    <tr>\n",
              "      <th>50%</th>\n",
              "      <td>35.000000</td>\n",
              "    </tr>\n",
              "    <tr>\n",
              "      <th>75%</th>\n",
              "      <td>46.500000</td>\n",
              "    </tr>\n",
              "    <tr>\n",
              "      <th>max</th>\n",
              "      <td>58.000000</td>\n",
              "    </tr>\n",
              "  </tbody>\n",
              "</table>\n",
              "</div>\n",
              "    <div class=\"colab-df-buttons\">\n",
              "\n",
              "  <div class=\"colab-df-container\">\n",
              "    <button class=\"colab-df-convert\" onclick=\"convertToInteractive('df-044765e2-36d1-449d-ac53-ee701fc7814b')\"\n",
              "            title=\"Convert this dataframe to an interactive table.\"\n",
              "            style=\"display:none;\">\n",
              "\n",
              "  <svg xmlns=\"http://www.w3.org/2000/svg\" height=\"24px\" viewBox=\"0 -960 960 960\">\n",
              "    <path d=\"M120-120v-720h720v720H120Zm60-500h600v-160H180v160Zm220 220h160v-160H400v160Zm0 220h160v-160H400v160ZM180-400h160v-160H180v160Zm440 0h160v-160H620v160ZM180-180h160v-160H180v160Zm440 0h160v-160H620v160Z\"/>\n",
              "  </svg>\n",
              "    </button>\n",
              "\n",
              "  <style>\n",
              "    .colab-df-container {\n",
              "      display:flex;\n",
              "      gap: 12px;\n",
              "    }\n",
              "\n",
              "    .colab-df-convert {\n",
              "      background-color: #E8F0FE;\n",
              "      border: none;\n",
              "      border-radius: 50%;\n",
              "      cursor: pointer;\n",
              "      display: none;\n",
              "      fill: #1967D2;\n",
              "      height: 32px;\n",
              "      padding: 0 0 0 0;\n",
              "      width: 32px;\n",
              "    }\n",
              "\n",
              "    .colab-df-convert:hover {\n",
              "      background-color: #E2EBFA;\n",
              "      box-shadow: 0px 1px 2px rgba(60, 64, 67, 0.3), 0px 1px 3px 1px rgba(60, 64, 67, 0.15);\n",
              "      fill: #174EA6;\n",
              "    }\n",
              "\n",
              "    .colab-df-buttons div {\n",
              "      margin-bottom: 4px;\n",
              "    }\n",
              "\n",
              "    [theme=dark] .colab-df-convert {\n",
              "      background-color: #3B4455;\n",
              "      fill: #D2E3FC;\n",
              "    }\n",
              "\n",
              "    [theme=dark] .colab-df-convert:hover {\n",
              "      background-color: #434B5C;\n",
              "      box-shadow: 0px 1px 3px 1px rgba(0, 0, 0, 0.15);\n",
              "      filter: drop-shadow(0px 1px 2px rgba(0, 0, 0, 0.3));\n",
              "      fill: #FFFFFF;\n",
              "    }\n",
              "  </style>\n",
              "\n",
              "    <script>\n",
              "      const buttonEl =\n",
              "        document.querySelector('#df-044765e2-36d1-449d-ac53-ee701fc7814b button.colab-df-convert');\n",
              "      buttonEl.style.display =\n",
              "        google.colab.kernel.accessAllowed ? 'block' : 'none';\n",
              "\n",
              "      async function convertToInteractive(key) {\n",
              "        const element = document.querySelector('#df-044765e2-36d1-449d-ac53-ee701fc7814b');\n",
              "        const dataTable =\n",
              "          await google.colab.kernel.invokeFunction('convertToInteractive',\n",
              "                                                    [key], {});\n",
              "        if (!dataTable) return;\n",
              "\n",
              "        const docLinkHtml = 'Like what you see? Visit the ' +\n",
              "          '<a target=\"_blank\" href=https://colab.research.google.com/notebooks/data_table.ipynb>data table notebook</a>'\n",
              "          + ' to learn more about interactive tables.';\n",
              "        element.innerHTML = '';\n",
              "        dataTable['output_type'] = 'display_data';\n",
              "        await google.colab.output.renderOutput(dataTable, element);\n",
              "        const docLink = document.createElement('div');\n",
              "        docLink.innerHTML = docLinkHtml;\n",
              "        element.appendChild(docLink);\n",
              "      }\n",
              "    </script>\n",
              "  </div>\n",
              "\n",
              "\n",
              "<div id=\"df-da85dd18-c8d3-4c53-98e8-5f6d910751bf\">\n",
              "  <button class=\"colab-df-quickchart\" onclick=\"quickchart('df-da85dd18-c8d3-4c53-98e8-5f6d910751bf')\"\n",
              "            title=\"Suggest charts\"\n",
              "            style=\"display:none;\">\n",
              "\n",
              "<svg xmlns=\"http://www.w3.org/2000/svg\" height=\"24px\"viewBox=\"0 0 24 24\"\n",
              "     width=\"24px\">\n",
              "    <g>\n",
              "        <path d=\"M19 3H5c-1.1 0-2 .9-2 2v14c0 1.1.9 2 2 2h14c1.1 0 2-.9 2-2V5c0-1.1-.9-2-2-2zM9 17H7v-7h2v7zm4 0h-2V7h2v10zm4 0h-2v-4h2v4z\"/>\n",
              "    </g>\n",
              "</svg>\n",
              "  </button>\n",
              "\n",
              "<style>\n",
              "  .colab-df-quickchart {\n",
              "      --bg-color: #E8F0FE;\n",
              "      --fill-color: #1967D2;\n",
              "      --hover-bg-color: #E2EBFA;\n",
              "      --hover-fill-color: #174EA6;\n",
              "      --disabled-fill-color: #AAA;\n",
              "      --disabled-bg-color: #DDD;\n",
              "  }\n",
              "\n",
              "  [theme=dark] .colab-df-quickchart {\n",
              "      --bg-color: #3B4455;\n",
              "      --fill-color: #D2E3FC;\n",
              "      --hover-bg-color: #434B5C;\n",
              "      --hover-fill-color: #FFFFFF;\n",
              "      --disabled-bg-color: #3B4455;\n",
              "      --disabled-fill-color: #666;\n",
              "  }\n",
              "\n",
              "  .colab-df-quickchart {\n",
              "    background-color: var(--bg-color);\n",
              "    border: none;\n",
              "    border-radius: 50%;\n",
              "    cursor: pointer;\n",
              "    display: none;\n",
              "    fill: var(--fill-color);\n",
              "    height: 32px;\n",
              "    padding: 0;\n",
              "    width: 32px;\n",
              "  }\n",
              "\n",
              "  .colab-df-quickchart:hover {\n",
              "    background-color: var(--hover-bg-color);\n",
              "    box-shadow: 0 1px 2px rgba(60, 64, 67, 0.3), 0 1px 3px 1px rgba(60, 64, 67, 0.15);\n",
              "    fill: var(--button-hover-fill-color);\n",
              "  }\n",
              "\n",
              "  .colab-df-quickchart-complete:disabled,\n",
              "  .colab-df-quickchart-complete:disabled:hover {\n",
              "    background-color: var(--disabled-bg-color);\n",
              "    fill: var(--disabled-fill-color);\n",
              "    box-shadow: none;\n",
              "  }\n",
              "\n",
              "  .colab-df-spinner {\n",
              "    border: 2px solid var(--fill-color);\n",
              "    border-color: transparent;\n",
              "    border-bottom-color: var(--fill-color);\n",
              "    animation:\n",
              "      spin 1s steps(1) infinite;\n",
              "  }\n",
              "\n",
              "  @keyframes spin {\n",
              "    0% {\n",
              "      border-color: transparent;\n",
              "      border-bottom-color: var(--fill-color);\n",
              "      border-left-color: var(--fill-color);\n",
              "    }\n",
              "    20% {\n",
              "      border-color: transparent;\n",
              "      border-left-color: var(--fill-color);\n",
              "      border-top-color: var(--fill-color);\n",
              "    }\n",
              "    30% {\n",
              "      border-color: transparent;\n",
              "      border-left-color: var(--fill-color);\n",
              "      border-top-color: var(--fill-color);\n",
              "      border-right-color: var(--fill-color);\n",
              "    }\n",
              "    40% {\n",
              "      border-color: transparent;\n",
              "      border-right-color: var(--fill-color);\n",
              "      border-top-color: var(--fill-color);\n",
              "    }\n",
              "    60% {\n",
              "      border-color: transparent;\n",
              "      border-right-color: var(--fill-color);\n",
              "    }\n",
              "    80% {\n",
              "      border-color: transparent;\n",
              "      border-right-color: var(--fill-color);\n",
              "      border-bottom-color: var(--fill-color);\n",
              "    }\n",
              "    90% {\n",
              "      border-color: transparent;\n",
              "      border-bottom-color: var(--fill-color);\n",
              "    }\n",
              "  }\n",
              "</style>\n",
              "\n",
              "  <script>\n",
              "    async function quickchart(key) {\n",
              "      const quickchartButtonEl =\n",
              "        document.querySelector('#' + key + ' button');\n",
              "      quickchartButtonEl.disabled = true;  // To prevent multiple clicks.\n",
              "      quickchartButtonEl.classList.add('colab-df-spinner');\n",
              "      try {\n",
              "        const charts = await google.colab.kernel.invokeFunction(\n",
              "            'suggestCharts', [key], {});\n",
              "      } catch (error) {\n",
              "        console.error('Error during call to suggestCharts:', error);\n",
              "      }\n",
              "      quickchartButtonEl.classList.remove('colab-df-spinner');\n",
              "      quickchartButtonEl.classList.add('colab-df-quickchart-complete');\n",
              "    }\n",
              "    (() => {\n",
              "      let quickchartButtonEl =\n",
              "        document.querySelector('#df-da85dd18-c8d3-4c53-98e8-5f6d910751bf button');\n",
              "      quickchartButtonEl.style.display =\n",
              "        google.colab.kernel.accessAllowed ? 'block' : 'none';\n",
              "    })();\n",
              "  </script>\n",
              "</div>\n",
              "\n",
              "    </div>\n",
              "  </div>\n"
            ],
            "application/vnd.google.colaboratory.intrinsic+json": {
              "type": "dataframe",
              "summary": "{\n  \"name\": \"df\",\n  \"rows\": 8,\n  \"fields\": [\n    {\n      \"column\": \"Age\",\n      \"properties\": {\n        \"dtype\": \"number\",\n        \"std\": 17.20898796807199,\n        \"min\": 3.0,\n        \"max\": 58.0,\n        \"samples\": [\n          38.333333333333336,\n          35.0,\n          3.0\n        ],\n        \"num_unique_values\": 8,\n        \"semantic_type\": \"\",\n        \"description\": \"\"\n      }\n    }\n  ]\n}"
            }
          },
          "metadata": {},
          "execution_count": 10
        }
      ]
    },
    {
      "cell_type": "markdown",
      "source": [
        "## Selection"
      ],
      "metadata": {
        "id": "BmCpKPQICxBz"
      }
    },
    {
      "cell_type": "code",
      "source": [
        "#refer to the row index:\n",
        "print(df.loc[0])"
      ],
      "metadata": {
        "colab": {
          "base_uri": "https://localhost:8080/"
        },
        "id": "ljGNbQ6eFoPf",
        "outputId": "897028f9-8a6a-487a-a266-25cf0028b882"
      },
      "execution_count": 11,
      "outputs": [
        {
          "output_type": "stream",
          "name": "stdout",
          "text": [
            "Name    Braund, Mr. Owen Harris\n",
            "Age                          22\n",
            "Sex                        male\n",
            "Name: 0, dtype: object\n"
          ]
        }
      ]
    },
    {
      "cell_type": "code",
      "source": [
        "#use a list of indexes:\n",
        "print(df.loc[[0, 1]])"
      ],
      "metadata": {
        "colab": {
          "base_uri": "https://localhost:8080/"
        },
        "id": "08vXtsFlGAHd",
        "outputId": "760602fc-da97-40ae-91a7-a1cd5dc04545"
      },
      "execution_count": 12,
      "outputs": [
        {
          "output_type": "stream",
          "name": "stdout",
          "text": [
            "                       Name  Age   Sex\n",
            "0   Braund, Mr. Owen Harris   22  male\n",
            "1  Allen, Mr. William Henry   35  male\n"
          ]
        }
      ]
    },
    {
      "cell_type": "code",
      "source": [
        "#Add a list of names to give each row a name\n",
        "df = pd.DataFrame(data, index = [\"day1\", \"day2\", \"day3\"])\n",
        "\n",
        "print(df)"
      ],
      "metadata": {
        "colab": {
          "base_uri": "https://localhost:8080/"
        },
        "outputId": "fc720af2-22a4-4da7-9f98-ec737a6a7b35",
        "id": "oR685tYCGIqf"
      },
      "execution_count": 13,
      "outputs": [
        {
          "output_type": "stream",
          "name": "stdout",
          "text": [
            "      calories  duration\n",
            "day1       420        50\n",
            "day2       380        40\n",
            "day3       390        45\n"
          ]
        }
      ]
    },
    {
      "cell_type": "code",
      "source": [
        "#refer to the named index:\n",
        "print(df.loc[\"day1\"])"
      ],
      "metadata": {
        "colab": {
          "base_uri": "https://localhost:8080/"
        },
        "id": "WF3vN71KGUXz",
        "outputId": "165e3502-b37a-4ee3-a6cc-be2790c09008"
      },
      "execution_count": 14,
      "outputs": [
        {
          "output_type": "stream",
          "name": "stdout",
          "text": [
            "calories    420\n",
            "duration     50\n",
            "Name: day1, dtype: int64\n"
          ]
        }
      ]
    },
    {
      "cell_type": "markdown",
      "source": [
        "## Load Files Into a DataFrame"
      ],
      "metadata": {
        "id": "c5QeshViCu_1"
      }
    },
    {
      "cell_type": "code",
      "source": [
        "df = pd.read_csv('https://www.alvinang.sg/s/iris_dataset.csv')\n",
        "print(df)"
      ],
      "metadata": {
        "colab": {
          "base_uri": "https://localhost:8080/"
        },
        "id": "qkjqZw_xDleW",
        "outputId": "1912519c-319e-4b6d-f702-821d57c76a10"
      },
      "execution_count": 15,
      "outputs": [
        {
          "output_type": "stream",
          "name": "stdout",
          "text": [
            "     sepal_length  sepal_width  petal_length  petal_width    species\n",
            "0             5.1          3.5           1.4          0.2     setosa\n",
            "1             4.9          3.0           1.4          0.2     setosa\n",
            "2             4.7          3.2           1.3          0.2     setosa\n",
            "3             4.6          3.1           1.5          0.2     setosa\n",
            "4             5.0          3.6           1.4          0.2     setosa\n",
            "..            ...          ...           ...          ...        ...\n",
            "145           6.7          3.0           5.2          2.3  virginica\n",
            "146           6.3          2.5           5.0          1.9  virginica\n",
            "147           6.5          3.0           5.2          2.0  virginica\n",
            "148           6.2          3.4           5.4          2.3  virginica\n",
            "149           5.9          3.0           5.1          1.8  virginica\n",
            "\n",
            "[150 rows x 5 columns]\n"
          ]
        }
      ]
    },
    {
      "cell_type": "code",
      "source": [
        "#Print information about the data\n",
        "print(df.info())"
      ],
      "metadata": {
        "colab": {
          "base_uri": "https://localhost:8080/"
        },
        "id": "WHXRfayQFQ-u",
        "outputId": "6d53fb24-772c-491b-aeb3-7deab1de0087"
      },
      "execution_count": 16,
      "outputs": [
        {
          "output_type": "stream",
          "name": "stdout",
          "text": [
            "<class 'pandas.core.frame.DataFrame'>\n",
            "RangeIndex: 150 entries, 0 to 149\n",
            "Data columns (total 5 columns):\n",
            " #   Column        Non-Null Count  Dtype  \n",
            "---  ------        --------------  -----  \n",
            " 0   sepal_length  150 non-null    float64\n",
            " 1   sepal_width   150 non-null    float64\n",
            " 2   petal_length  150 non-null    float64\n",
            " 3   petal_width   150 non-null    float64\n",
            " 4   species       150 non-null    object \n",
            "dtypes: float64(4), object(1)\n",
            "memory usage: 6.0+ KB\n",
            "None\n"
          ]
        }
      ]
    },
    {
      "cell_type": "markdown",
      "source": [
        "# Student Evaluation"
      ],
      "metadata": {
        "id": "FbnMdB3zy92V"
      }
    },
    {
      "cell_type": "markdown",
      "source": [
        "Student Evaluation out of 7 marks"
      ],
      "metadata": {
        "id": "jb0s4TI_zFMI"
      }
    },
    {
      "cell_type": "markdown",
      "source": [
        "*1. Import the Pandas package under the name pd*"
      ],
      "metadata": {
        "id": "ETmxnB3azL3c"
      }
    },
    {
      "cell_type": "code",
      "source": [],
      "metadata": {
        "id": "1d2cqrW4zEdw"
      },
      "execution_count": 16,
      "outputs": []
    },
    {
      "cell_type": "markdown",
      "source": [
        "*2.Create a Pandas Series from the list [7, 9, 3, 2, 5, 6]*"
      ],
      "metadata": {
        "id": "PnOpJToXzlVS"
      }
    },
    {
      "cell_type": "code",
      "source": [],
      "metadata": {
        "id": "GJcrVB2yz5Sc"
      },
      "execution_count": 16,
      "outputs": []
    },
    {
      "cell_type": "markdown",
      "source": [
        "*3.Load iris_dataset cvs file into dataframe df*"
      ],
      "metadata": {
        "id": "voVeSXoB0kfg"
      }
    },
    {
      "cell_type": "code",
      "source": [],
      "metadata": {
        "id": "02SkDNne0P4c"
      },
      "execution_count": 16,
      "outputs": []
    },
    {
      "cell_type": "markdown",
      "source": [
        "*4. Print the top 5 rows of the  df frame*"
      ],
      "metadata": {
        "id": "Mbo04juP0y4C"
      }
    },
    {
      "cell_type": "code",
      "source": [],
      "metadata": {
        "id": "8lZh36iu0yQ7"
      },
      "execution_count": 16,
      "outputs": []
    },
    {
      "cell_type": "markdown",
      "source": [
        "*5. Print the 10th raw*"
      ],
      "metadata": {
        "id": "ltOLCvl6IOWZ"
      }
    },
    {
      "cell_type": "code",
      "source": [],
      "metadata": {
        "id": "6lxUnj3VIqqv"
      },
      "execution_count": 16,
      "outputs": []
    },
    {
      "cell_type": "markdown",
      "source": [
        "*6.Print the species column*"
      ],
      "metadata": {
        "id": "jTGT-0wAJDTd"
      }
    },
    {
      "cell_type": "code",
      "source": [],
      "metadata": {
        "id": "wMXkoXG6JC0w"
      },
      "execution_count": 16,
      "outputs": []
    },
    {
      "cell_type": "markdown",
      "source": [
        "*7. Shows a quick statistic summary of the df data*"
      ],
      "metadata": {
        "id": "FTtMPxTrImjZ"
      }
    },
    {
      "cell_type": "code",
      "source": [],
      "metadata": {
        "id": "8AMRf0VU1jk1"
      },
      "execution_count": 16,
      "outputs": []
    }
  ]
}